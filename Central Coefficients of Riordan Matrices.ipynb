{
 "cells": [
  {
   "cell_type": "markdown",
   "metadata": {},
   "source": [
    "__AUTHORS__ = Elia Mercatanti, Matteo Gemignani\n",
    "\n",
    "__EMAIL__ = elia.mercatanti@stud.unifi.it, matteo.gemignani@stud.unifi.it"
   ]
  },
  {
   "cell_type": "markdown",
   "metadata": {},
   "source": [
    "# Progetto di Analysis of Algorithms and Data Structures - 2018/2019\n",
    "## Coefficienti Centrali delle Matrici di Riordan"
   ]
  },
  {
   "cell_type": "markdown",
   "metadata": {},
   "source": [
    "Lo scopo di questo Notebook è quello di riprodurre alcuni risultati presentati in \"On the Central Coefficients of Riordan Matrices\" (Paul Barry, 2013), disponibile a questo [link](https://cs.uwaterloo.ca/journals/JIS/VOL16/Barry1/barry242.html).\n",
    "In particolare, utilizzeremo il teorema di inversione di Lagrange per caratterizzare la funzione generatrice dei coefficienti centrali degli elementi di matrici di Riordan. Applicheremo il risultato ottenuto per calcolare la funzione generatrice dei coefficienti centrali di alcuni arrays di Riordan definiti da espressioni razionali e irrazionali."
   ]
  },
  {
   "cell_type": "markdown",
   "metadata": {},
   "source": [
    "### Definizioni su Sequenze di Interi, Inversione di Lagrange e Arrays di Riordan"
   ]
  },
  {
   "cell_type": "markdown",
   "metadata": {},
   "source": [
    "#### Funzione Generatrice e Operatore \"Coefficente di\"\n",
    "\n",
    "Per una sequenza di interi $a_n$, che è un elemento di $\\mathbb{Z}^\\mathbb{N}$, la serie di potenze $f(t)=\\sum^\\infty_{k=0}a_kt^k$ è chiamata *funzione generatrice* o f.g. della sequenza. $a_n$ è dunque il coefficiente di $t^n$ in questa serie. Rappresentiamo questo con $a_n=[t^n]f(t)$. Per esempio, $F_n=[t^n]\\frac{t}{1-t-t^2}$ è l'$n$-esimo numero di Fibonacci, mentre $C_n=[t^n]\\frac{1-\\sqrt{1-4t}}{2t}$ è l'$n$-esimo numero di Catalan. \n",
    "\n",
    "#### Inversa Composizionale\n",
    "Per una serie di potenze $f(t)=\\sum^\\infty_{k=0}a_kt^k$ con $f(0)=0$ e $f'(0)\\neq0$ definiamo la *reversione* o l'*inversa composizionale* di $f$ come la serie di potenze $\\bar{f}(t)$ (anche scritta $f^{[-1]}(t)$) tale che: \n",
    "\\begin{equation}\n",
    "f(\\bar{f}(t))=t\n",
    "\\end{equation}\n",
    "\n",
    "#### Teorema di inversione di Lagrange\n",
    "\n",
    "Supponiamo che una serie formale di potenze $w=w(t)$ è implicitamente definita dalla relazione $w=t\\phi(w)$, dove $\\phi(w)$ è una serie formale di potenze tale che $\\phi(0)=0$. Quindi, per qualsiasi serie formale di potenze $F(t)$,\n",
    "\n",
    "\\begin{equation}\n",
    "f(\\bar{f}(t))=t\n",
    "\\end{equation}\n"
   ]
  },
  {
   "cell_type": "markdown",
   "metadata": {},
   "source": [
    "[link](#section)\n",
    "<a name=\"section\"> dfsdsdg </a>"
   ]
  },
  {
   "cell_type": "markdown",
   "metadata": {},
   "source": [
    "Importiamo la libreria Sympy che verrà utilizzata per il calcolo simbolico più alcune alcune altre librerie per stampare in modo accurato le espressioni matematiche che utilizzeremo."
   ]
  },
  {
   "cell_type": "code",
   "execution_count": 1,
   "metadata": {},
   "outputs": [],
   "source": [
    "from sympy import init_printing"
   ]
  },
  {
   "cell_type": "markdown",
   "metadata": {},
   "source": [
    "Utiliziamo la seguente funzione per stampare graficamente le espressioni matematiche che utilizzeremo"
   ]
  },
  {
   "cell_type": "code",
   "execution_count": 2,
   "metadata": {},
   "outputs": [],
   "source": [
    "init_printing()"
   ]
  },
  {
   "cell_type": "code",
   "execution_count": 3,
   "metadata": {},
   "outputs": [],
   "source": [
    "from sympy import init_printing # to render math stuff with MathJax (https://www.mathjax.org/)\n",
    "from sympy import Symbol, Function, Matrix, IndexedBase # fundamentals objects to play with\n",
    "from sympy.abc import * # a collection of already-defined terms, such as `alpha, a, b, x, y, t, ...`\n",
    "from sympy import solve, sqrt\n",
    "from sympy.plotting import plot\n",
    "from sympy import *"
   ]
  },
  {
   "cell_type": "code",
   "execution_count": 4,
   "metadata": {},
   "outputs": [
    {
     "data": {
      "image/png": "[encoded data removed]",
      "text/latex": [
       "$$\\left( t \\mapsto \\frac{1}{- 2 t + 1} \\right)$$"
      ],
      "text/plain": [
       "       1    \n",
       "t ↦ ────────\n",
       "    -2⋅t + 1"
      ]
     },
     "execution_count": 4,
     "metadata": {},
     "output_type": "execute_result"
    }
   ],
   "source": [
    "d = Lambda([t], 1/(1-2*t))\n",
    "d"
   ]
  },
  {
   "cell_type": "code",
   "execution_count": 5,
   "metadata": {},
   "outputs": [],
   "source": [
    "f = Lambda([t], (1-2*t)/(1-3*t))"
   ]
  },
  {
   "cell_type": "code",
   "execution_count": 6,
   "metadata": {},
   "outputs": [],
   "source": [
    "vt = v*(1-3*v)/(1-2*v)\n",
    "eq = Eq(vt, t)"
   ]
  },
  {
   "cell_type": "code",
   "execution_count": 7,
   "metadata": {},
   "outputs": [
    {
     "data": {
      "image/png": "[encoded data removed]",
      "text/latex": [
       "$$\\frac{t}{3} - \\frac{\\sqrt{4 t^{2} - 8 t + 1}}{6} + \\frac{1}{6}$$"
      ],
      "text/plain": [
       "       ________________    \n",
       "      ╱    2               \n",
       "t   ╲╱  4⋅t  - 8⋅t + 1    1\n",
       "─ - ─────────────────── + ─\n",
       "3            6            6"
      ]
     },
     "execution_count": 7,
     "metadata": {},
     "output_type": "execute_result"
    }
   ],
   "source": [
    "sol = solve(eq, v)\n",
    "vt = sol[0]\n",
    "vt"
   ]
  },
  {
   "cell_type": "code",
   "execution_count": 8,
   "metadata": {},
   "outputs": [],
   "source": [
    "v = Lambda([t], vt)"
   ]
  },
  {
   "cell_type": "code",
   "execution_count": 9,
   "metadata": {},
   "outputs": [
    {
     "data": {
      "image/png": "[encoded data removed]",
      "text/latex": [
       "$$\\left( t \\mapsto \\frac{\\left(- \\frac{4 t - 4}{6 \\sqrt{4 t^{2} - 8 t + 1}} + \\frac{1}{3}\\right) \\left(- t + \\frac{\\sqrt{4 t^{2} - 8 t + 1}}{2} + \\frac{1}{2}\\right)}{\\left(- \\frac{2 t}{3} + \\frac{\\sqrt{4 t^{2} - 8 t + 1}}{3} + \\frac{2}{3}\\right)^{2}} \\right)$$"
      ],
      "text/plain": [
       "                                  ⎛        ________________    ⎞\n",
       "                                  ⎜       ╱    2               ⎟\n",
       "    ⎛         4⋅t - 4          1⎞ ⎜     ╲╱  4⋅t  - 8⋅t + 1    1⎟\n",
       "    ⎜- ───────────────────── + ─⎟⋅⎜-t + ─────────────────── + ─⎟\n",
       "    ⎜       ________________   3⎟ ⎝              2            2⎠\n",
       "    ⎜      ╱    2               ⎟                               \n",
       "    ⎝  6⋅╲╱  4⋅t  - 8⋅t + 1     ⎠                               \n",
       "t ↦ ────────────────────────────────────────────────────────────\n",
       "                                                  2             \n",
       "                 ⎛           ________________    ⎞              \n",
       "                 ⎜          ╱    2               ⎟              \n",
       "                 ⎜  2⋅t   ╲╱  4⋅t  - 8⋅t + 1    2⎟              \n",
       "                 ⎜- ─── + ─────────────────── + ─⎟              \n",
       "                 ⎝   3             3            3⎠              "
      ]
     },
     "execution_count": 9,
     "metadata": {},
     "output_type": "execute_result"
    }
   ],
   "source": [
    "d2nn = Lambda([t], d(v(t))/f(v(t)) * diff(v(t), t))\n",
    "d2nn"
   ]
  },
  {
   "cell_type": "code",
   "execution_count": 10,
   "metadata": {},
   "outputs": [],
   "source": [
    "fg = series(d2nn(t), t, n=5)"
   ]
  },
  {
   "cell_type": "code",
   "execution_count": 11,
   "metadata": {},
   "outputs": [
    {
     "data": {
      "image/png": "[encoded data removed]",
      "text/latex": [
       "$$90$$"
      ],
      "text/plain": [
       "90"
      ]
     },
     "execution_count": 11,
     "metadata": {},
     "output_type": "execute_result"
    }
   ],
   "source": [
    "fg.coeff(t, n=3)"
   ]
  },
  {
   "cell_type": "code",
   "execution_count": 12,
   "metadata": {},
   "outputs": [
    {
     "data": {
      "image/png": "[encoded data removed]",
      "text/latex": [
       "$$\\left[\\begin{matrix}1 & 0 & 0 & 0 & 0 & 0 & 0 & 0 & 0 & 0\\\\2 & 1 & 0 & 0 & 0 & 0 & 0 & 0 & 0 & 0\\\\4 & 3 & 1 & 0 & 0 & 0 & 0 & 0 & 0 & 0\\\\8 & 9 & 4 & 1 & 0 & 0 & 0 & 0 & 0 & 0\\\\16 & 27 & 15 & 5 & 1 & 0 & 0 & 0 & 0 & 0\\\\32 & 81 & 54 & 22 & 6 & 1 & 0 & 0 & 0 & 0\\\\64 & 243 & 189 & 90 & 30 & 7 & 1 & 0 & 0 & 0\\\\128 & 729 & 648 & 351 & 136 & 39 & 8 & 1 & 0 & 0\\\\256 & 2187 & 2187 & 1323 & 579 & 193 & 49 & 9 & 1 & 0\\\\512 & 6561 & 7290 & 4860 & 2358 & 886 & 262 & 60 & 10 & 1\\end{matrix}\\right]$$"
      ],
      "text/plain": [
       "⎡ 1    0     0     0     0     0    0   0   0   0⎤\n",
       "⎢                                                ⎥\n",
       "⎢ 2    1     0     0     0     0    0   0   0   0⎥\n",
       "⎢                                                ⎥\n",
       "⎢ 4    3     1     0     0     0    0   0   0   0⎥\n",
       "⎢                                                ⎥\n",
       "⎢ 8    9     4     1     0     0    0   0   0   0⎥\n",
       "⎢                                                ⎥\n",
       "⎢16    27    15    5     1     0    0   0   0   0⎥\n",
       "⎢                                                ⎥\n",
       "⎢32    81    54    22    6     1    0   0   0   0⎥\n",
       "⎢                                                ⎥\n",
       "⎢64   243   189    90    30    7    1   0   0   0⎥\n",
       "⎢                                                ⎥\n",
       "⎢128  729   648   351   136   39    8   1   0   0⎥\n",
       "⎢                                                ⎥\n",
       "⎢256  2187  2187  1323  579   193  49   9   1   0⎥\n",
       "⎢                                                ⎥\n",
       "⎣512  6561  7290  4860  2358  886  262  60  10  1⎦"
      ]
     },
     "execution_count": 12,
     "metadata": {},
     "output_type": "execute_result"
    }
   ],
   "source": [
    "matrix = eye(10)\n",
    "for i in range(10):\n",
    "    col = Lambda([t], d(t)*(t*f(t))**i)\n",
    "    a = series(col(t), t, n=10)\n",
    "    for j in range(10):\n",
    "        matrix[j,i] = a.coeff(t, n=j)\n",
    "\n",
    "matrix"
   ]
  }
 ],
 "metadata": {
  "kernelspec": {
   "display_name": "Python 3",
   "language": "python",
   "name": "python3"
  },
  "language_info": {
   "codemirror_mode": {
    "name": "ipython",
    "version": 3
   },
   "file_extension": ".py",
   "mimetype": "text/x-python",
   "name": "python",
   "nbconvert_exporter": "python",
   "pygments_lexer": "ipython3",
   "version": "3.7.2"
  }
 },
 "nbformat": 4,
 "nbformat_minor": 2
}
