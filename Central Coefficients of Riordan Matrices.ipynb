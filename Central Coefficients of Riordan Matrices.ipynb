{
 "cells": [
  {
   "cell_type": "markdown",
   "metadata": {},
   "source": [
    "__AUTHORS__ = Elia Mercatanti, Matteo Gemignani\n",
    "\n",
    "__EMAIL__ = elia.mercatanti@stud.unifi.it, matteo.gemignani@stud.unifi.it"
   ]
  },
  {
   "cell_type": "markdown",
   "metadata": {},
   "source": [
    "# <center> Progetto di Analysis of Algorithms and Data Structures - 2018/2019 </center>\n",
    "# <center> - Coefficienti Centrali delle Matrici di Riordan - </center>\n",
    "\n",
    "Lo scopo di questo Notebook è quello di riprodurre alcuni risultati presentati in \"On the Central Coefficients of Riordan Matrices\" (Paul Barry, 2013), disponibile a questo [link](https://cs.uwaterloo.ca/journals/JIS/VOL16/Barry1/barry242.html), attraverso la libreria di Python *Sympy* per l'utlizzo del metodo simbolico.\n",
    "In particolare, utilizzeremo il teorema di inversione di Lagrange per caratterizzare la funzione generatrice dei coefficienti centrali degli elementi di matrici di Riordan. Applicheremo il risultato ottenuto per calcolare la funzione generatrice dei coefficienti centrali di alcuni arrays di Riordan definiti da espressioni razionali e irrazionali.\n",
    "\n",
    "## Definizioni su Sequenze di Interi, Inversione di Lagrange e Array di Riordan\n",
    "\n",
    "### Funzione Generatrice\n",
    "\n",
    "Per una sequenza di interi $a_n$, che è un elemento di $\\mathbb{Z}^\\mathbb{N}$, la serie di potenze $f(t)=\\sum^\\infty_{k=0}a_kt^k$ è chiamata *funzione generatrice* o f.g. della sequenza. $a_n$ è dunque il coefficiente di $t^n$ in questa serie. Rappresentiamo questo con $a_n=[t^n]f(t)$. Per esempio, $F_n=[t^n]\\frac{t}{1-t-t^2}$ è l'$n$-esimo numero di Fibonacci, mentre $C_n=[t^n]\\frac{1-\\sqrt{1-4t}}{2t}$ è l'$n$-esimo numero di Catalan. \n",
    "\n",
    "### Inversa Composizionale <a name=\"inversa\">  </a>\n",
    "Per una serie di potenze $f(t)=\\sum^\\infty_{k=0}a_kt^k$ con $f(0)=0$ e $f'(0)\\neq0$ definiamo la *reversione* o l'*inversa composizionale* di $f$ come la serie di potenze $\\bar{f}(t)$ (anche scritta $f^{[-1]}(t)$) tale che:\n",
    "\n",
    "\\begin{equation}\n",
    "f(\\bar{f}(t))=t\n",
    "\\end{equation}\n",
    "\n",
    "### Teorema di Inversione di Lagrange <a name=\"lagrange\">  </a>\n",
    "\n",
    "Supponiamo che una serie formale di potenze $w=w(t)$ è implicitamente definita dalla relazione $w=t\\phi(w)$, dove $\\phi(w)$ è una serie formale di potenze tale che $\\phi(0)=0$. Quindi, per qualsiasi serie formale di potenze $F(t)$,\n",
    "\n",
    "\\begin{equation}\n",
    "[t^n]F(w(t))=\\frac{1}{n}[t^{n-1}]F'(t)(\\phi(t))^n\n",
    "\\end{equation}\n",
    "\n",
    "###  Riordan Array <a name=\"riordan\">  </a>\n",
    "Un array di Riordan è una coppia $D=\\mathcal{R}(d(t), h(t))$, dove $d(t)$ e $h(t)$ sono due serie di potenze formali (due funzioni generatrici) tali che $d(0)\\neq0$ e $h(0)\\neq0$. La coppia definisce una matrice triangolare inferiore infinita $(d_{n,k})_{n,k\\in\\mathbb{N}}$, dove:\n",
    "\n",
    "\\begin{equation}\n",
    "d_{n,k}=[t^n]d(t)(h(t))^k\n",
    "\\end{equation}\n",
    "\n",
    "## Teorema per il Calcolo della Funzione Generatrice dei Coefficienti Centrali di una Matrice di Riordan\n",
    "\n",
    "Sia $(d(t),h(t))=(d(t),tf(t))$ un elemento del gruppo di matrici di Riordan $\\mathcal{R}$ (con $f(0)\\neq0$). Sia $d_{n,k}$ l'$(n,k)$-esimo elemento di questa matrice, e sia $v(t)$ la seguente serie di potenze (con $v(0)\\neq0$):\n",
    "\n",
    "<a name=\"v\">  </a>\n",
    "\\begin{equation}\n",
    "v(t)=\\overline{\\left(\\frac{t}{f(t)}\\right)}.\n",
    "\\end{equation}\n",
    "\n",
    "Dunque la funzione generatrice della sequenza di termini centrali $d_{2n,n}$ è data da:\n",
    "\n",
    "<a name=\"d2nn\">  </a>\n",
    "\\begin{equation}\n",
    "\\frac{d(v(t))}{f(v(t))}\\frac{d}{dt}v(t).\n",
    "\\end{equation}\n",
    "\n",
    "#### Dimostrazione\n",
    "\n",
    "Consideriamo $d_{n,k}$ come l'elemento generale dell'array di Riordan $(d(t),tf(t))$. Dunque abbiamo che\n",
    "\n",
    "\\begin{align*}\n",
    "d_{2n,n} = [t^{2n}]d(t)(tf(t))^n \\\\\n",
    "= [t^{2n}]t^nd(t)f(t)^n \\\\\n",
    "= [t^n]\\frac{d(t)}{f(t)}f(t)^{n+1} \\\\\n",
    "= (n+1)\\frac{1}{n+1}[t^n]F'(t)f(t)^{n+1},\n",
    "\\end{align*}\n",
    "\n",
    "dove $F'(t)=\\frac{d(t)}{f(t)}$. Applicando il teorema di inversione di Lagrange, descritto precedentemente in ([2](#lagrange)), otteniamo\n",
    "\n",
    "\\begin{align*}\n",
    "d_{2n,n} = (n+1)[t^{n+1}]F(v(t)) \\\\\n",
    "= [t^n]F'(v(t))v'(t) \\\\\n",
    "= [t^n]\\frac{d(v(t))}{f(v(t))}\\frac{d}{dt}v(t).\n",
    "\\end{align*}"
   ]
  },
  {
   "cell_type": "markdown",
   "metadata": {},
   "source": [
    "## Esempio con Espressioni Razionali\n",
    "\n",
    "Per prima cosa, importiamo la libreria Sympy che verrà utilizzata per il calcolo simbolico più alcune altre librerie per stampare in modo accurato le espressioni matematiche che utilizzeremo."
   ]
  },
  {
   "cell_type": "code",
   "execution_count": 1,
   "metadata": {},
   "outputs": [],
   "source": [
    "from sympy import init_printing\n",
    "from sympy import Lambda, Eq, solve, diff, simplify, series, zeros, Matrix, binomial, symbols\n",
    "from sympy.abc import t, v, r, m, k\n",
    "import numpy as np"
   ]
  },
  {
   "cell_type": "markdown",
   "metadata": {},
   "source": [
    "Utiliziamo la seguente funzione per stampare graficamente in modo accurato le espressioni matematiche che utilizzeremo."
   ]
  },
  {
   "cell_type": "code",
   "execution_count": 2,
   "metadata": {},
   "outputs": [],
   "source": [
    "init_printing()"
   ]
  },
  {
   "cell_type": "markdown",
   "metadata": {},
   "source": [
    "Prendiamo in considerazione la seguente coppia di funzioni generatrici $d(t)=\\frac{1}{1-2t}$ e $f(t)=\\frac{1-2t}{1-3t}$."
   ]
  },
  {
   "cell_type": "code",
   "execution_count": 3,
   "metadata": {},
   "outputs": [
    {
     "data": {
      "image/png": "[encoded data removed]",
      "text/latex": [
       "$$\\left( t \\mapsto \\frac{1}{- 2 t + 1} \\right)$$"
      ],
      "text/plain": [
       "       1    \n",
       "t ↦ ────────\n",
       "    -2⋅t + 1"
      ]
     },
     "execution_count": 3,
     "metadata": {},
     "output_type": "execute_result"
    }
   ],
   "source": [
    "d = Lambda(t, 1/(1-2*t))\n",
    "d"
   ]
  },
  {
   "cell_type": "code",
   "execution_count": 4,
   "metadata": {},
   "outputs": [
    {
     "data": {
      "image/png": "[encoded data removed]",
      "text/latex": [
       "$$\\left( t \\mapsto \\frac{- 2 t + 1}{- 3 t + 1} \\right)$$"
      ],
      "text/plain": [
       "    -2⋅t + 1\n",
       "t ↦ ────────\n",
       "    -3⋅t + 1"
      ]
     },
     "execution_count": 4,
     "metadata": {},
     "output_type": "execute_result"
    }
   ],
   "source": [
    "f = Lambda(t, (1-2*t)/(1-3*t))\n",
    "f"
   ]
  },
  {
   "cell_type": "markdown",
   "metadata": {},
   "source": [
    "Che formano una matrice di Riordan $\\mathcal{R}(d(t), tf(t))$ ([3](#riordan)):\n",
    "\n",
    "\\begin{equation*}\n",
    "\\left(\\frac{1}{1-2t}, \\frac{t(1-2t)}{1-3t}\\right)\n",
    "\\end{equation*}"
   ]
  },
  {
   "cell_type": "code",
   "execution_count": 5,
   "metadata": {},
   "outputs": [
    {
     "data": {
      "image/png": "[encoded data removed]",
      "text/latex": [
       "$$\\left ( \\left( t \\mapsto \\frac{1}{- 2 t + 1} \\right), \\quad t \\left( t \\mapsto \\frac{- 2 t + 1}{- 3 t + 1} \\right)\\right )$$"
      ],
      "text/plain": [
       "⎛       1        ⎛    -2⋅t + 1⎞⎞\n",
       "⎜t ↦ ────────, t⋅⎜t ↦ ────────⎟⎟\n",
       "⎝    -2⋅t + 1    ⎝    -3⋅t + 1⎠⎠"
      ]
     },
     "execution_count": 5,
     "metadata": {},
     "output_type": "execute_result"
    }
   ],
   "source": [
    "(d, t*f)"
   ]
  },
  {
   "cell_type": "markdown",
   "metadata": {},
   "source": [
    "I coefficienti centrali di questa matrice iniziano con 1, 3, 15, 90, 579, 3858, ..., vediamo dunque come calcolarli utilizzando i teoremi e le definizioni presentate precedentemente.\n",
    "\n",
    "Dobbiamo sostanzialmente applicare il Teorema per il calcolo della funzione generatrice dei coefficienti centrali di una matrice di Riordan, e dunque per prima cosa dobbiamo ricavare la funzione $v(t)$ definita in ([4](#v)). Che nel nostro esempio risulta quindi uguale a\n",
    "\n",
    "\\begin{equation*}\n",
    "v(t)=\\overline{\\left(\\frac{t}{f(t)}\\right)}=\\overline{\\left(\\frac{t(1-3t)}{1-2t}\\right)}.\n",
    "\\end{equation*}\n",
    "\n",
    "Per ricavare dunque $v(t)$ in forma esplicita dovremo calcolarci l'inversa composizionale di $\\frac{t(1-3t)}{1-2t}$ applicando la definizione vista in ([1](#inversa)). Quindi $v(t)$ è la soluzione appropriata (con $v(0)=0$) della seguente equazione:\n",
    "\n",
    "\\begin{equation*}\n",
    "\\frac{v(1-3v)}{1-2v}=t.\n",
    "\\end{equation*}"
   ]
  },
  {
   "cell_type": "code",
   "execution_count": 6,
   "metadata": {},
   "outputs": [
    {
     "data": {
      "image/png": "[encoded data removed]",
      "text/latex": [
       "$$\\frac{v \\left(- 3 v + 1\\right)}{- 2 v + 1} = t$$"
      ],
      "text/plain": [
       "v⋅(-3⋅v + 1)    \n",
       "──────────── = t\n",
       "  -2⋅v + 1      "
      ]
     },
     "execution_count": 6,
     "metadata": {},
     "output_type": "execute_result"
    }
   ],
   "source": [
    "equation = Eq(v/f(v), t)\n",
    "equation"
   ]
  },
  {
   "cell_type": "markdown",
   "metadata": {},
   "source": [
    "Risolviamo l'equazione:"
   ]
  },
  {
   "cell_type": "code",
   "execution_count": 7,
   "metadata": {},
   "outputs": [
    {
     "data": {
      "image/png": "[encoded data removed]",
      "text/latex": [
       "$$\\frac{t}{3} - \\frac{\\sqrt{4 t^{2} - 8 t + 1}}{6} + \\frac{1}{6}$$"
      ],
      "text/plain": [
       "       ________________    \n",
       "      ╱    2               \n",
       "t   ╲╱  4⋅t  - 8⋅t + 1    1\n",
       "─ - ─────────────────── + ─\n",
       "3            6            6"
      ]
     },
     "execution_count": 7,
     "metadata": {},
     "output_type": "execute_result"
    }
   ],
   "source": [
    "sol = solve(equation, v)\n",
    "sol[0]"
   ]
  },
  {
   "cell_type": "markdown",
   "metadata": {},
   "source": [
    "Troviamo dunque che la soluzione corretta è:\n",
    "\n",
    "\\begin{equation*}\n",
    "v(t)=\\frac{1+2t-\\sqrt{1-8t+4t^2}}{6}.\n",
    "\\end{equation*}"
   ]
  },
  {
   "cell_type": "code",
   "execution_count": 8,
   "metadata": {},
   "outputs": [
    {
     "data": {
      "image/png": "[encoded data removed]",
      "text/latex": [
       "$$\\left( t \\mapsto \\frac{t}{3} - \\frac{\\sqrt{4 t^{2} - 8 t + 1}}{6} + \\frac{1}{6} \\right)$$"
      ],
      "text/plain": [
       "           ________________    \n",
       "          ╱    2               \n",
       "    t   ╲╱  4⋅t  - 8⋅t + 1    1\n",
       "t ↦ ─ - ─────────────────── + ─\n",
       "    3            6            6"
      ]
     },
     "execution_count": 8,
     "metadata": {},
     "output_type": "execute_result"
    }
   ],
   "source": [
    "v = Lambda(t, sol[0])\n",
    "v"
   ]
  },
  {
   "cell_type": "markdown",
   "metadata": {},
   "source": [
    "A questo punto non ci resta che applicare il principale risultato del teorema, ovvero, per trovare la funzione generatrice $d_{2n,n}$ dei coefficienti centrali basterà calcolare la formula ([5](#d2nn)), nel nostro esempio con\n",
    "\n",
    "\\begin{equation*}\n",
    "\\frac{d(t)}{f(t)}=\\frac{1-3t}{(1-2t)^2}.\n",
    "\\end{equation*}"
   ]
  },
  {
   "cell_type": "code",
   "execution_count": 9,
   "metadata": {},
   "outputs": [
    {
     "data": {
      "image/png": "[encoded data removed]",
      "text/latex": [
       "$$\\left( t \\mapsto \\frac{- 6 t + 3 \\sqrt{4 t^{2} - 8 t + 1} + 3}{2 \\left(- 2 t + \\sqrt{4 t^{2} - 8 t + 1} + 2\\right) \\sqrt{4 t^{2} - 8 t + 1}} \\right)$$"
      ],
      "text/plain": [
       "                           ________________               \n",
       "                          ╱    2                          \n",
       "               -6⋅t + 3⋅╲╱  4⋅t  - 8⋅t + 1  + 3           \n",
       "t ↦ ──────────────────────────────────────────────────────\n",
       "      ⎛          ________________    ⎞    ________________\n",
       "      ⎜         ╱    2               ⎟   ╱    2           \n",
       "    2⋅⎝-2⋅t + ╲╱  4⋅t  - 8⋅t + 1  + 2⎠⋅╲╱  4⋅t  - 8⋅t + 1 "
      ]
     },
     "execution_count": 9,
     "metadata": {},
     "output_type": "execute_result"
    }
   ],
   "source": [
    "d_2n_n = Lambda(t, d(v(t))/f(v(t)) * diff(v(t), t))\n",
    "d_2n_n = simplify(d_2n_n)\n",
    "d_2n_n"
   ]
  },
  {
   "cell_type": "markdown",
   "metadata": {},
   "source": [
    "Troviamo dunque che la funzione generatrice $d_{2n,n}$ è data da:\n",
    "\n",
    "\\begin{equation*}\n",
    "d_{2n,n}=\\frac{d(v(t))}{f(v(t))}\\frac{d}{dt}v(t)=\\frac{1+2t+\\sqrt{1-8t+4t^2}}{2\\sqrt{1-8t+4t^2}}.\n",
    "\\end{equation*}"
   ]
  },
  {
   "cell_type": "markdown",
   "metadata": {},
   "source": [
    "Che in forma in serie di potenze diventa:"
   ]
  },
  {
   "cell_type": "code",
   "execution_count": 10,
   "metadata": {},
   "outputs": [
    {
     "data": {
      "image/png": "[encoded data removed]",
      "text/latex": [
       "$$1 + 3 t + 15 t^{2} + 90 t^{3} + 579 t^{4} + 3858 t^{5} + 26262 t^{6} + 181380 t^{7} + 1265955 t^{8} + 8906706 t^{9} + O\\left(t^{10}\\right)$$"
      ],
      "text/plain": [
       "              2       3        4         5          6           7            8\n",
       "1 + 3⋅t + 15⋅t  + 90⋅t  + 579⋅t  + 3858⋅t  + 26262⋅t  + 181380⋅t  + 1265955⋅t \n",
       "\n",
       "            9    ⎛ 10⎞\n",
       " + 8906706⋅t  + O⎝t  ⎠"
      ]
     },
     "execution_count": 10,
     "metadata": {},
     "output_type": "execute_result"
    }
   ],
   "source": [
    "fg = series(d_2n_n(t), t, n=10)\n",
    "fg"
   ]
  },
  {
   "cell_type": "markdown",
   "metadata": {},
   "source": [
    "E in questa forma è facilmente osservabile come i primi coefficenti di tale serie siano effettivamente 1, 3, 15, 90, 579, 3858, ... \n",
    "\n",
    "Per una prova finale possiamo stampare la matrice di Riordan corrispondente alle due funzioni generatrici scelte ($d(t)$ e $f(t)$) e verificare che i suoi coefficienti centrali siano effetivamente quelli indicata dalla funzione generatrice $d_{2n,n}$ appena calcolata. Calcoliamo dunque tale matrice limitandoci ad un numero di righe e colonne pari a $n$, definito qui sotto."
   ]
  },
  {
   "cell_type": "code",
   "execution_count": 11,
   "metadata": {},
   "outputs": [
    {
     "data": {
      "image/png": "[encoded data removed]",
      "text/latex": [
       "$$\\left[\\begin{matrix}1 & 0 & 0 & 0 & 0 & 0 & 0 & 0 & 0 & 0\\\\2 & 1 & 0 & 0 & 0 & 0 & 0 & 0 & 0 & 0\\\\4 & 3 & 1 & 0 & 0 & 0 & 0 & 0 & 0 & 0\\\\8 & 9 & 4 & 1 & 0 & 0 & 0 & 0 & 0 & 0\\\\16 & 27 & 15 & 5 & 1 & 0 & 0 & 0 & 0 & 0\\\\32 & 81 & 54 & 22 & 6 & 1 & 0 & 0 & 0 & 0\\\\64 & 243 & 189 & 90 & 30 & 7 & 1 & 0 & 0 & 0\\\\128 & 729 & 648 & 351 & 136 & 39 & 8 & 1 & 0 & 0\\\\256 & 2187 & 2187 & 1323 & 579 & 193 & 49 & 9 & 1 & 0\\\\512 & 6561 & 7290 & 4860 & 2358 & 886 & 262 & 60 & 10 & 1\\end{matrix}\\right]$$"
      ],
      "text/plain": [
       "⎡ 1    0     0     0     0     0    0   0   0   0⎤\n",
       "⎢                                                ⎥\n",
       "⎢ 2    1     0     0     0     0    0   0   0   0⎥\n",
       "⎢                                                ⎥\n",
       "⎢ 4    3     1     0     0     0    0   0   0   0⎥\n",
       "⎢                                                ⎥\n",
       "⎢ 8    9     4     1     0     0    0   0   0   0⎥\n",
       "⎢                                                ⎥\n",
       "⎢16    27    15    5     1     0    0   0   0   0⎥\n",
       "⎢                                                ⎥\n",
       "⎢32    81    54    22    6     1    0   0   0   0⎥\n",
       "⎢                                                ⎥\n",
       "⎢64   243   189    90    30    7    1   0   0   0⎥\n",
       "⎢                                                ⎥\n",
       "⎢128  729   648   351   136   39    8   1   0   0⎥\n",
       "⎢                                                ⎥\n",
       "⎢256  2187  2187  1323  579   193  49   9   1   0⎥\n",
       "⎢                                                ⎥\n",
       "⎣512  6561  7290  4860  2358  886  262  60  10  1⎦"
      ]
     },
     "execution_count": 11,
     "metadata": {},
     "output_type": "execute_result"
    }
   ],
   "source": [
    "n = 10\n",
    "riordan_matrix = zeros(n)\n",
    "for column in range(n):\n",
    "    d_n_k = Lambda(t, d(t)*(t*f(t))**column)\n",
    "    a_n = series(d_n_k(t), t, n=n)\n",
    "    for row in range(n):\n",
    "        riordan_matrix[row, column] = a_n.coeff(t, n=row)\n",
    "riordan_matrix"
   ]
  },
  {
   "cell_type": "markdown",
   "metadata": {},
   "source": [
    "Se riportiamo i termini della matrice precedente ad una forma a \"piramide\" possiamo scovare agilmente i coefficienti centrali di tale matrice. Tali termini infatti sono tutti quelli che sono presenti nella colonna centrale e più \"alta\" di numeri."
   ]
  },
  {
   "cell_type": "code",
   "execution_count": 12,
   "metadata": {},
   "outputs": [
    {
     "data": {
      "image/png": "[encoded data removed]",
      "text/latex": [
       "$$\\left[\\begin{array}{ccccccccccccccccccc}0 & 0 & 0 & 0 & 0 & 0 & 0 & 0 & 0 & 1 & 0 & 0 & 0 & 0 & 0 & 0 & 0 & 0 & 0\\\\0 & 0 & 0 & 0 & 0 & 0 & 0 & 0 & 2 & 0 & 1 & 0 & 0 & 0 & 0 & 0 & 0 & 0 & 0\\\\0 & 0 & 0 & 0 & 0 & 0 & 0 & 4 & 0 & 3 & 0 & 1 & 0 & 0 & 0 & 0 & 0 & 0 & 0\\\\0 & 0 & 0 & 0 & 0 & 0 & 8 & 0 & 9 & 0 & 4 & 0 & 1 & 0 & 0 & 0 & 0 & 0 & 0\\\\0 & 0 & 0 & 0 & 0 & 16 & 0 & 27 & 0 & 15 & 0 & 5 & 0 & 1 & 0 & 0 & 0 & 0 & 0\\\\0 & 0 & 0 & 0 & 32 & 0 & 81 & 0 & 54 & 0 & 22 & 0 & 6 & 0 & 1 & 0 & 0 & 0 & 0\\\\0 & 0 & 0 & 64 & 0 & 243 & 0 & 189 & 0 & 90 & 0 & 30 & 0 & 7 & 0 & 1 & 0 & 0 & 0\\\\0 & 0 & 128 & 0 & 729 & 0 & 648 & 0 & 351 & 0 & 136 & 0 & 39 & 0 & 8 & 0 & 1 & 0 & 0\\\\0 & 256 & 0 & 2187 & 0 & 2187 & 0 & 1323 & 0 & 579 & 0 & 193 & 0 & 49 & 0 & 9 & 0 & 1 & 0\\\\512 & 0 & 6561 & 0 & 7290 & 0 & 4860 & 0 & 2358 & 0 & 886 & 0 & 262 & 0 & 60 & 0 & 10 & 0 & 1\\end{array}\\right]$$"
      ],
      "text/plain": [
       "⎡ 0    0    0     0     0     0     0     0     0     1    0    0    0   0   0\n",
       "⎢                                                                             \n",
       "⎢ 0    0    0     0     0     0     0     0     2     0    1    0    0   0   0\n",
       "⎢                                                                             \n",
       "⎢ 0    0    0     0     0     0     0     4     0     3    0    1    0   0   0\n",
       "⎢                                                                             \n",
       "⎢ 0    0    0     0     0     0     8     0     9     0    4    0    1   0   0\n",
       "⎢                                                                             \n",
       "⎢ 0    0    0     0     0     16    0     27    0    15    0    5    0   1   0\n",
       "⎢                                                                             \n",
       "⎢ 0    0    0     0     32    0     81    0     54    0   22    0    6   0   1\n",
       "⎢                                                                             \n",
       "⎢ 0    0    0     64    0    243    0    189    0    90    0   30    0   7   0\n",
       "⎢                                                                             \n",
       "⎢ 0    0   128    0    729    0    648    0    351    0   136   0   39   0   8\n",
       "⎢                                                                             \n",
       "⎢ 0   256   0    2187   0    2187   0    1323   0    579   0   193   0   49  0\n",
       "⎢                                                                             \n",
       "⎣512   0   6561   0    7290   0    4860   0    2358   0   886   0   262  0   6\n",
       "\n",
       "   0  0   0  0⎤\n",
       "              ⎥\n",
       "   0  0   0  0⎥\n",
       "              ⎥\n",
       "   0  0   0  0⎥\n",
       "              ⎥\n",
       "   0  0   0  0⎥\n",
       "              ⎥\n",
       "   0  0   0  0⎥\n",
       "              ⎥\n",
       "   0  0   0  0⎥\n",
       "              ⎥\n",
       "   1  0   0  0⎥\n",
       "              ⎥\n",
       "   0  1   0  0⎥\n",
       "              ⎥\n",
       "   9  0   1  0⎥\n",
       "              ⎥\n",
       "0  0  10  0  1⎦"
      ]
     },
     "execution_count": 12,
     "metadata": {},
     "output_type": "execute_result"
    }
   ],
   "source": [
    "triangle = zeros(n, n*2-1)\n",
    "for i in range(n):\n",
    "    row = np.array(riordan_matrix[n-i-1, 0:n-i])\n",
    "    temp = np.zeros((1, n*2-2*i-1), dtype=row.dtype)\n",
    "    temp[:,::2] = row\n",
    "    triangle[n-i-1, i:n*2-i-1] = temp\n",
    "triangle"
   ]
  },
  {
   "cell_type": "markdown",
   "metadata": {},
   "source": [
    "Osservando la matrice precedente possiamo confermare senza ombra di dubbio che i primi coefficienti centrali della matrice di Riordan considerata sono proprio 1, 3, 15, 90, 579, 3858, ... "
   ]
  },
  {
   "cell_type": "markdown",
   "metadata": {},
   "source": [
    "Possiamo generalizzare il risultato precedente attraverso il seguente array di Riordan con $d(t)=\\frac{1}{1-rt}$ e $f(t)=\\frac{1-rt}{1-(r+1)t}$:\n",
    "\n",
    "\\begin{equation*}\n",
    "\\left(\\frac{1}{1-rt}, \\frac{t(1-rt)}{1-(r+1)t}\\right).\n",
    "\\end{equation*}\n",
    "\n",
    "Ripetendo i medesimi passaggi visti prima ricaviamo la funzione generatrice $d_{2n,n}$ per i termini centrali del nuovo array di Riordan."
   ]
  },
  {
   "cell_type": "code",
   "execution_count": 13,
   "metadata": {},
   "outputs": [
    {
     "data": {
      "image/png": "[encoded data removed]",
      "text/latex": [
       "$$\\left( t \\mapsto \\frac{\\left(r + 1\\right) \\left(- r t + \\sqrt{r^{2} t^{2} - 2 r t - 4 t + 1} + 1\\right) \\left(- r^{2} t + r \\sqrt{r^{2} t^{2} - 2 r t - 4 t + 1} + r + 2\\right)}{\\left(r \\left(r t - \\sqrt{r^{2} t^{2} - 2 r t - 4 t + 1} + 1\\right) - 2 r - 2\\right)^{2} \\sqrt{r^{2} t^{2} - 2 r t - 4 t + 1}} \\right)$$"
      ],
      "text/plain": [
       "            ⎛          _________________________    ⎞ ⎛              _________\n",
       "            ⎜         ╱  2  2                       ⎟ ⎜   2         ╱  2  2   \n",
       "    (r + 1)⋅⎝-r⋅t + ╲╱  r ⋅t  - 2⋅r⋅t - 4⋅t + 1  + 1⎠⋅⎝- r ⋅t + r⋅╲╱  r ⋅t  - \n",
       "t ↦ ──────────────────────────────────────────────────────────────────────────\n",
       "                                                                  2           \n",
       "            ⎛  ⎛         _________________________    ⎞          ⎞     _______\n",
       "            ⎜  ⎜        ╱  2  2                       ⎟          ⎟    ╱  2  2 \n",
       "            ⎝r⋅⎝r⋅t - ╲╱  r ⋅t  - 2⋅r⋅t - 4⋅t + 1  + 1⎠ - 2⋅r - 2⎠ ⋅╲╱  r ⋅t  \n",
       "\n",
       "________________        ⎞\n",
       "                        ⎟\n",
       "2⋅r⋅t - 4⋅t + 1  + r + 2⎠\n",
       "─────────────────────────\n",
       "                         \n",
       "__________________       \n",
       "                         \n",
       "- 2⋅r⋅t - 4⋅t + 1        "
      ]
     },
     "execution_count": 13,
     "metadata": {},
     "output_type": "execute_result"
    }
   ],
   "source": [
    "d = Lambda(t, 1/(1-r*t))\n",
    "f = Lambda(t, (1-r*t)/(1-(r+1)*t))\n",
    "equation = Eq(v/f(v), t)\n",
    "sol = solve(equation, v)\n",
    "v = Lambda(t, sol[0])\n",
    "d_2n_n = Lambda(t, d(v(t))/f(v(t)) * diff(v(t), t))\n",
    "d_2n_n = simplify(d_2n_n)\n",
    "d_2n_n"
   ]
  },
  {
   "cell_type": "markdown",
   "metadata": {},
   "source": [
    "Che semplificata ulteriormente da come risultato:\n",
    "    \n",
    "\\begin{equation*}\n",
    "d_{2n,n}=\\frac{d(v(t))}{f(v(t))}\\frac{d}{dt}v(t)=\\frac{1+rt+\\sqrt{1-2(r+2)t+r^2t^2}}{2\\sqrt{1-2(r+2)t+r^2t^2}}.\n",
    "\\end{equation*}\n",
    "\n",
    "L'elemento generale di $\\left(\\frac{1}{1-rt}, \\frac{t(1-rt)}{1-(r+1)t}\\right)$, considerando la definizione in ([3](#riordan)) è dato da:\n",
    "\n",
    "\\begin{equation*}\n",
    "d_{n,k}=[t^n]\\frac{1}{1-rt}\\left(\\frac{t(1-rt)}{1-(r+1)t}\\right)^k.\n",
    "\\end{equation*}\n",
    "\n",
    "Applicando poi il teorema di inversione di Lagrange ([2](#lagrange)) otteniamo la seguente espressione:\n",
    "\n",
    "\\begin{equation*}\n",
    "d_{2nn,n}=\\sum^n_{k=0}\\binom{n-1}{k}\\binom{2n-k-1}{n-k}(-r)^k(r+1)^{n-k}.\n",
    "\\end{equation*}\n",
    "\n",
    "La funzione generatrice bivariata seguente\n",
    "\n",
    "\\begin{equation*}\n",
    "\\mathcal{G}\\ (t,y) = \\frac{1+yt+\\sqrt{1-2(y+2)t+y^2t^2}}{2\\sqrt{1-2(y+2)t+y^2t^2}}\n",
    "\\end{equation*}\n",
    "\n",
    "è invece la funzione generatrice della matrice triangolare inferiore con elemento generale pari a\n",
    "\n",
    "\\begin{equation*}\n",
    "\\binom{n}{k}\\binom{2n-k-1}{n-k},\n",
    "\\end{equation*}\n",
    "\n",
    "e quindi abbiamo anche che\n",
    "\n",
    "\\begin{equation*}\n",
    "d_{2nn,n}=\\sum^n_{k=0}\\binom{n}{k}\\binom{2n-k-1}{n-k}r^k.\n",
    "\\end{equation*}"
   ]
  },
  {
   "cell_type": "markdown",
   "metadata": {},
   "source": [
    "Possiamo osservare che tale matrice triangolare inferiore, limitandoci ad un numero di righe e colonne pari a $n$ definito qui sotto, ha la seguente forma."
   ]
  },
  {
   "cell_type": "code",
   "execution_count": 14,
   "metadata": {},
   "outputs": [
    {
     "data": {
      "image/png": "[encoded data removed]",
      "text/latex": [
       "$$\\left[\\begin{matrix}1 & 0 & 0 & 0 & 0\\\\1 & 1 & 0 & 0 & 0\\\\3 & 4 & 1 & 0 & 0\\\\10 & 18 & 9 & 1 & 0\\\\35 & 80 & 60 & 16 & 1\\end{matrix}\\right]$$"
      ],
      "text/plain": [
       "⎡1   0   0   0   0⎤\n",
       "⎢                 ⎥\n",
       "⎢1   1   0   0   0⎥\n",
       "⎢                 ⎥\n",
       "⎢3   4   1   0   0⎥\n",
       "⎢                 ⎥\n",
       "⎢10  18  9   1   0⎥\n",
       "⎢                 ⎥\n",
       "⎣35  80  60  16  1⎦"
      ]
     },
     "execution_count": 14,
     "metadata": {},
     "output_type": "execute_result"
    }
   ],
   "source": [
    "n = 5\n",
    "d_n_k = Lambda([m, k], binomial(m, k)*binomial(2*m-k-1, m-k))\n",
    "riordan_matrix = zeros(n)\n",
    "for row in range(n):\n",
    "    for column in range(n):\n",
    "        riordan_matrix[row, column] = d_n_k(row, column)\n",
    "riordan_matrix"
   ]
  },
  {
   "cell_type": "markdown",
   "metadata": {},
   "source": [
    "Ed infine anche in questo caso possiamo individuare agilmente i coefficienti centrali della matrice precedente se riportiamo i suoi termini ad una forma a \"piramide\"."
   ]
  },
  {
   "cell_type": "code",
   "execution_count": 15,
   "metadata": {},
   "outputs": [
    {
     "data": {
      "image/png": "[encoded data removed]",
      "text/latex": [
       "$$\\left[\\begin{matrix}0 & 0 & 0 & 0 & 1 & 0 & 0 & 0 & 0\\\\0 & 0 & 0 & 1 & 0 & 1 & 0 & 0 & 0\\\\0 & 0 & 3 & 0 & 4 & 0 & 1 & 0 & 0\\\\0 & 10 & 0 & 18 & 0 & 9 & 0 & 1 & 0\\\\35 & 0 & 80 & 0 & 60 & 0 & 16 & 0 & 1\\end{matrix}\\right]$$"
      ],
      "text/plain": [
       "⎡0   0   0   0   1   0  0   0  0⎤\n",
       "⎢                               ⎥\n",
       "⎢0   0   0   1   0   1  0   0  0⎥\n",
       "⎢                               ⎥\n",
       "⎢0   0   3   0   4   0  1   0  0⎥\n",
       "⎢                               ⎥\n",
       "⎢0   10  0   18  0   9  0   1  0⎥\n",
       "⎢                               ⎥\n",
       "⎣35  0   80  0   60  0  16  0  1⎦"
      ]
     },
     "execution_count": 15,
     "metadata": {},
     "output_type": "execute_result"
    }
   ],
   "source": [
    "triangle = zeros(n, n*2-1)\n",
    "for i in range(n):\n",
    "    row = np.array(riordan_matrix[n-i-1, 0:n-i])\n",
    "    temp = np.zeros((1, n*2-2*i-1), dtype=row.dtype)\n",
    "    temp[:,::2] = row\n",
    "    triangle[n-i-1, i:n*2-i-1] = temp\n",
    "triangle"
   ]
  },
  {
   "cell_type": "markdown",
   "metadata": {},
   "source": [
    "## Esempio con Espressioni Irrazionali\n",
    "Importimo le librerie utili per utilizzare SymPy"
   ]
  },
  {
   "cell_type": "code",
   "execution_count": 16,
   "metadata": {},
   "outputs": [],
   "source": [
    "import math\n",
    "from sympy import sqrt, eye"
   ]
  },
  {
   "cell_type": "markdown",
   "metadata": {},
   "source": [
    "Dobbiamo analizzare la coppia $$\\bigg(\\frac{1}{\\sqrt{1-4t}},\\frac{t}{c(t)}\\bigg)$$\n",
    "dove $$c(t)=\\frac{1-\\sqrt{1-4t}}{2t}$$\n",
    "Quindi adesso utilizando la classe *Lambda* disponibile nel pacchetto definisco la prima funzione "
   ]
  },
  {
   "cell_type": "code",
   "execution_count": 17,
   "metadata": {},
   "outputs": [
    {
     "data": {
      "image/png": "[encoded data removed]",
      "text/latex": [
       "$$\\frac{1}{\\sqrt{- 4 t + 1}}$$"
      ],
      "text/plain": [
       "     1      \n",
       "────────────\n",
       "  __________\n",
       "╲╱ -4⋅t + 1 "
      ]
     },
     "execution_count": 17,
     "metadata": {},
     "output_type": "execute_result"
    }
   ],
   "source": [
    "d = Lambda([t], 1/(sqrt(1-4*t)))\n",
    "d(t)"
   ]
  },
  {
   "cell_type": "markdown",
   "metadata": {},
   "source": [
    "In modo anlogo a prima definico $f(t)$ che in questo caso corrisponde a $\\frac{1}{c(t)}$ "
   ]
  },
  {
   "cell_type": "code",
   "execution_count": 18,
   "metadata": {},
   "outputs": [
    {
     "data": {
      "image/png": "[encoded data removed]",
      "text/latex": [
       "$$\\frac{2 t}{- \\sqrt{- 4 t + 1} + 1}$$"
      ],
      "text/plain": [
       "       2⋅t        \n",
       "──────────────────\n",
       "    __________    \n",
       "- ╲╱ -4⋅t + 1  + 1"
      ]
     },
     "execution_count": 18,
     "metadata": {},
     "output_type": "execute_result"
    }
   ],
   "source": [
    "f= Lambda([t], (2*t)/(1-sqrt(1-4*t)))\n",
    "f(t)"
   ]
  },
  {
   "cell_type": "markdown",
   "metadata": {},
   "source": [
    "Quindi la matrice di *Riordan* verrà costruita come segue: l'elemento $r_{i,j}$ sarà:$$r_{i,j}=[t^i]d(t)(tf(t))^j$$  quella delle funzioni sopra citate sarà:"
   ]
  },
  {
   "cell_type": "code",
   "execution_count": 19,
   "metadata": {},
   "outputs": [
    {
     "data": {
      "image/png": "[encoded data removed]",
      "text/latex": [
       "$$\\left[\\begin{matrix}1 & 0 & 0 & 0 & 0 & 0 & 0 & 0 & 0 & 0\\\\2 & 1 & 0 & 0 & 0 & 0 & 0 & 0 & 0 & 0\\\\6 & 1 & 1 & 0 & 0 & 0 & 0 & 0 & 0 & 0\\\\20 & 3 & 0 & 1 & 0 & 0 & 0 & 0 & 0 & 0\\\\70 & 10 & 1 & -1 & 1 & 0 & 0 & 0 & 0 & 0\\\\252 & 35 & 4 & 0 & -2 & 1 & 0 & 0 & 0 & 0\\\\924 & 126 & 15 & 1 & 0 & -3 & 1 & 0 & 0 & 0\\\\3432 & 462 & 56 & 5 & 0 & 1 & -4 & 1 & 0 & 0\\\\12870 & 1716 & 210 & 21 & 1 & 0 & 3 & -5 & 1 & 0\\\\48620 & 6435 & 792 & 84 & 6 & 0 & 0 & 6 & -6 & 1\\end{matrix}\\right]$$"
      ],
      "text/plain": [
       "⎡  1     0     0   0   0   0   0   0   0   0⎤\n",
       "⎢                                           ⎥\n",
       "⎢  2     1     0   0   0   0   0   0   0   0⎥\n",
       "⎢                                           ⎥\n",
       "⎢  6     1     1   0   0   0   0   0   0   0⎥\n",
       "⎢                                           ⎥\n",
       "⎢ 20     3     0   1   0   0   0   0   0   0⎥\n",
       "⎢                                           ⎥\n",
       "⎢ 70     10    1   -1  1   0   0   0   0   0⎥\n",
       "⎢                                           ⎥\n",
       "⎢ 252    35    4   0   -2  1   0   0   0   0⎥\n",
       "⎢                                           ⎥\n",
       "⎢ 924   126   15   1   0   -3  1   0   0   0⎥\n",
       "⎢                                           ⎥\n",
       "⎢3432   462   56   5   0   1   -4  1   0   0⎥\n",
       "⎢                                           ⎥\n",
       "⎢12870  1716  210  21  1   0   3   -5  1   0⎥\n",
       "⎢                                           ⎥\n",
       "⎣48620  6435  792  84  6   0   0   6   -6  1⎦"
      ]
     },
     "execution_count": 19,
     "metadata": {},
     "output_type": "execute_result"
    }
   ],
   "source": [
    "n = 10\n",
    "riordan_matrix = zeros(n)\n",
    "for column in range(n):\n",
    "    d_n_k = Lambda(t, d(t)*(t*f(t))**column)\n",
    "    a_n = series(d_n_k(t), t, n=n)\n",
    "    for row in range(n):\n",
    "        riordan_matrix[row, column] = a_n.coeff(t, n=row)\n",
    "riordan_matrix"
   ]
  },
  {
   "cell_type": "code",
   "execution_count": 20,
   "metadata": {},
   "outputs": [
    {
     "data": {
      "image/png": "[encoded data removed]",
      "text/latex": [
       "$$\\left[\\begin{array}{ccccccccccccccccccc}0 & 0 & 0 & 0 & 0 & 0 & 0 & 0 & 0 & 1 & 0 & 0 & 0 & 0 & 0 & 0 & 0 & 0 & 0\\\\0 & 0 & 0 & 0 & 0 & 0 & 0 & 0 & 2 & 0 & 1 & 0 & 0 & 0 & 0 & 0 & 0 & 0 & 0\\\\0 & 0 & 0 & 0 & 0 & 0 & 0 & 6 & 0 & 1 & 0 & 1 & 0 & 0 & 0 & 0 & 0 & 0 & 0\\\\0 & 0 & 0 & 0 & 0 & 0 & 20 & 0 & 3 & 0 & 0 & 0 & 1 & 0 & 0 & 0 & 0 & 0 & 0\\\\0 & 0 & 0 & 0 & 0 & 70 & 0 & 10 & 0 & 1 & 0 & -1 & 0 & 1 & 0 & 0 & 0 & 0 & 0\\\\0 & 0 & 0 & 0 & 252 & 0 & 35 & 0 & 4 & 0 & 0 & 0 & -2 & 0 & 1 & 0 & 0 & 0 & 0\\\\0 & 0 & 0 & 924 & 0 & 126 & 0 & 15 & 0 & 1 & 0 & 0 & 0 & -3 & 0 & 1 & 0 & 0 & 0\\\\0 & 0 & 3432 & 0 & 462 & 0 & 56 & 0 & 5 & 0 & 0 & 0 & 1 & 0 & -4 & 0 & 1 & 0 & 0\\\\0 & 12870 & 0 & 1716 & 0 & 210 & 0 & 21 & 0 & 1 & 0 & 0 & 0 & 3 & 0 & -5 & 0 & 1 & 0\\\\48620 & 0 & 6435 & 0 & 792 & 0 & 84 & 0 & 6 & 0 & 0 & 0 & 0 & 0 & 6 & 0 & -6 & 0 & 1\\end{array}\\right]$$"
      ],
      "text/plain": [
       "⎡  0      0     0     0     0    0   0   0   0  1  0  0   0   0   0   0   0   \n",
       "⎢                                                                             \n",
       "⎢  0      0     0     0     0    0   0   0   2  0  1  0   0   0   0   0   0   \n",
       "⎢                                                                             \n",
       "⎢  0      0     0     0     0    0   0   6   0  1  0  1   0   0   0   0   0   \n",
       "⎢                                                                             \n",
       "⎢  0      0     0     0     0    0   20  0   3  0  0  0   1   0   0   0   0   \n",
       "⎢                                                                             \n",
       "⎢  0      0     0     0     0   70   0   10  0  1  0  -1  0   1   0   0   0   \n",
       "⎢                                                                             \n",
       "⎢  0      0     0     0    252   0   35  0   4  0  0  0   -2  0   1   0   0   \n",
       "⎢                                                                             \n",
       "⎢  0      0     0    924    0   126  0   15  0  1  0  0   0   -3  0   1   0   \n",
       "⎢                                                                             \n",
       "⎢  0      0    3432   0    462   0   56  0   5  0  0  0   1   0   -4  0   1   \n",
       "⎢                                                                             \n",
       "⎢  0    12870   0    1716   0   210  0   21  0  1  0  0   0   3   0   -5  0   \n",
       "⎢                                                                             \n",
       "⎣48620    0    6435   0    792   0   84  0   6  0  0  0   0   0   6   0   -6  \n",
       "\n",
       "0  0⎤\n",
       "    ⎥\n",
       "0  0⎥\n",
       "    ⎥\n",
       "0  0⎥\n",
       "    ⎥\n",
       "0  0⎥\n",
       "    ⎥\n",
       "0  0⎥\n",
       "    ⎥\n",
       "0  0⎥\n",
       "    ⎥\n",
       "0  0⎥\n",
       "    ⎥\n",
       "0  0⎥\n",
       "    ⎥\n",
       "1  0⎥\n",
       "    ⎥\n",
       "0  1⎦"
      ]
     },
     "execution_count": 20,
     "metadata": {},
     "output_type": "execute_result"
    }
   ],
   "source": [
    "triangle = zeros(n, n*2-1)\n",
    "for i in range(n):\n",
    "    row = np.array(riordan_matrix[n-i-1, 0:n-i])\n",
    "    temp = np.zeros((1, n*2-2*i-1), dtype=row.dtype)\n",
    "    temp[:,::2] = row\n",
    "    triangle[n-i-1, i:n*2-i-1] = temp\n",
    "triangle"
   ]
  },
  {
   "cell_type": "markdown",
   "metadata": {},
   "source": [
    "Dalla tabella vediamo che i coefficenti centrali sono $1,1,1,\\cdots$ adesso quindi per dimostrare il teorema basterà dimostrare che la funzione generatrice dei coefficienti centrali corisponde a $\\mathcal{G}(1)=\\frac{1}{1-t}$\n",
    "\n",
    "Come abbimo fatto negli esempi precendeti ricaviamo $v(t)$ impostando l'equazione:\n",
    "$$vc(t)=t$$"
   ]
  },
  {
   "cell_type": "code",
   "execution_count": 21,
   "metadata": {},
   "outputs": [
    {
     "data": {
      "image/png": "[encoded data removed]",
      "text/latex": [
       "$$\\left( t \\mapsto t \\left(- t + 1\\right) \\right)$$"
      ],
      "text/plain": [
       "t ↦ t⋅(-t + 1)"
      ]
     },
     "execution_count": 21,
     "metadata": {},
     "output_type": "execute_result"
    }
   ],
   "source": [
    "vT=(1/f(v))*v\n",
    "eq=Eq(vT, t)\n",
    "sols = solve(eq, v)\n",
    "v2= Lambda([t],sols[0])\n",
    "v2"
   ]
  },
  {
   "cell_type": "markdown",
   "metadata": {},
   "source": [
    "quindi calcoliamo il rapporto, il rapporto della composizione delle funzioni e la derivata di $v(t)$"
   ]
  },
  {
   "cell_type": "code",
   "execution_count": 22,
   "metadata": {},
   "outputs": [
    {
     "data": {
      "image/png": "[encoded data removed]",
      "text/latex": [
       "$$\\frac{- \\sqrt{- 4 t + 1} + 1}{2 t \\sqrt{- 4 t + 1}}$$"
      ],
      "text/plain": [
       "    __________    \n",
       "- ╲╱ -4⋅t + 1  + 1\n",
       "──────────────────\n",
       "       __________ \n",
       " 2⋅t⋅╲╱ -4⋅t + 1  "
      ]
     },
     "execution_count": 22,
     "metadata": {},
     "output_type": "execute_result"
    }
   ],
   "source": [
    "d(t)/f(t)"
   ]
  },
  {
   "cell_type": "code",
   "execution_count": 23,
   "metadata": {},
   "outputs": [
    {
     "data": {
      "image/png": "[encoded data removed]",
      "text/latex": [
       "$$\\frac{\\sqrt{- 4 t \\left(- t + 1\\right) + 1} - 1}{2 t \\left(t - 1\\right) \\sqrt{- 4 t \\left(- t + 1\\right) + 1}}$$"
      ],
      "text/plain": [
       "      ___________________        \n",
       "    ╲╱ -4⋅t⋅(-t + 1) + 1  - 1    \n",
       "─────────────────────────────────\n",
       "              ___________________\n",
       "2⋅t⋅(t - 1)⋅╲╱ -4⋅t⋅(-t + 1) + 1 "
      ]
     },
     "execution_count": 23,
     "metadata": {},
     "output_type": "execute_result"
    }
   ],
   "source": [
    "rapp=simplify(d(v2(t))/f(v2(t)))\n",
    "rapp"
   ]
  },
  {
   "cell_type": "code",
   "execution_count": 24,
   "metadata": {},
   "outputs": [
    {
     "data": {
      "image/png": "[encoded data removed]",
      "text/latex": [
       "$$- 2 t + 1$$"
      ],
      "text/plain": [
       "-2⋅t + 1"
      ]
     },
     "execution_count": 24,
     "metadata": {},
     "output_type": "execute_result"
    }
   ],
   "source": [
    "der=diff(v2(t),t)\n",
    "der"
   ]
  },
  {
   "cell_type": "markdown",
   "metadata": {},
   "source": [
    "Adesso abbiamo tutto il necessario per calcolare la funzione generatrice definita dal teorema"
   ]
  },
  {
   "cell_type": "code",
   "execution_count": 25,
   "metadata": {},
   "outputs": [
    {
     "data": {
      "image/png": "[encoded data removed]",
      "text/latex": [
       "$$\\frac{\\left(- 2 t + 1\\right) \\left(\\sqrt{- 4 t \\left(- t + 1\\right) + 1} - 1\\right)}{2 t \\left(t - 1\\right) \\sqrt{- 4 t \\left(- t + 1\\right) + 1}}$$"
      ],
      "text/plain": [
       "           ⎛  ___________________    ⎞\n",
       "(-2⋅t + 1)⋅⎝╲╱ -4⋅t⋅(-t + 1) + 1  - 1⎠\n",
       "──────────────────────────────────────\n",
       "                ___________________   \n",
       "  2⋅t⋅(t - 1)⋅╲╱ -4⋅t⋅(-t + 1) + 1    "
      ]
     },
     "execution_count": 25,
     "metadata": {},
     "output_type": "execute_result"
    }
   ],
   "source": [
    "f_gen=Lambda([t],(rapp*der))\n",
    "f_gen(t)"
   ]
  },
  {
   "cell_type": "markdown",
   "metadata": {},
   "source": [
    "si vede bene che questa funzione corisponde a $\\mathcal{G}(1)$ ma per essere scrupolosi risolviamo l'equazione"
   ]
  },
  {
   "cell_type": "code",
   "execution_count": 26,
   "metadata": {},
   "outputs": [
    {
     "data": {
      "image/png": "[encoded data removed]",
      "text/latex": [
       "$$\\left [ \\right ]$$"
      ],
      "text/plain": [
       "[]"
      ]
     },
     "execution_count": 26,
     "metadata": {},
     "output_type": "execute_result"
    }
   ],
   "source": [
    "j= Lambda([t],1/(1-t))\n",
    "eq=Eq(f_gen(t), j(t))\n",
    "solve(eq,t)"
   ]
  },
  {
   "cell_type": "markdown",
   "metadata": {},
   "source": [
    "L'equazione torna vuota, ovvero che le due espressioni sono uguali.\n",
    "\n",
    "Inoltre vediamo che la forma in serie di potenze corrisponde a quanto detto sopra"
   ]
  },
  {
   "cell_type": "code",
   "execution_count": 27,
   "metadata": {},
   "outputs": [
    {
     "data": {
      "image/png": "[encoded data removed]",
      "text/latex": [
       "$$1 + t + t^{2} + t^{3} + O\\left(t^{4}\\right)$$"
      ],
      "text/plain": [
       "         2    3    ⎛ 4⎞\n",
       "1 + t + t  + t  + O⎝t ⎠"
      ]
     },
     "execution_count": 27,
     "metadata": {},
     "output_type": "execute_result"
    }
   ],
   "source": [
    "series(f_gen(t), t, n=4)"
   ]
  },
  {
   "cell_type": "markdown",
   "metadata": {},
   "source": [
    "Il secondo esempio prevede di definire $f(t)=c(t)$, seguendo i soliti passaggi arriviamo ad ottenere la funzione generatrice."
   ]
  },
  {
   "cell_type": "code",
   "execution_count": 28,
   "metadata": {},
   "outputs": [
    {
     "data": {
      "image/png": "[encoded data removed]",
      "text/latex": [
       "$$\\frac{- \\sqrt{- 4 t + 1} + 1}{2 t}$$"
      ],
      "text/plain": [
       "    __________    \n",
       "- ╲╱ -4⋅t + 1  + 1\n",
       "──────────────────\n",
       "       2⋅t        "
      ]
     },
     "execution_count": 28,
     "metadata": {},
     "output_type": "execute_result"
    }
   ],
   "source": [
    "f= Lambda([t], (1-sqrt(1-4*t))/(2*t))\n",
    "f(t)"
   ]
  },
  {
   "cell_type": "code",
   "execution_count": 29,
   "metadata": {},
   "outputs": [
    {
     "data": {
      "image/png": "[encoded data removed]",
      "text/latex": [
       "$$\\left[\\begin{matrix}1 & 0 & 0 & 0 & 0 & 0 & 0 & 0 & 0 & 0\\\\2 & 1 & 0 & 0 & 0 & 0 & 0 & 0 & 0 & 0\\\\6 & 3 & 1 & 0 & 0 & 0 & 0 & 0 & 0 & 0\\\\20 & 10 & 4 & 1 & 0 & 0 & 0 & 0 & 0 & 0\\\\70 & 35 & 15 & 5 & 1 & 0 & 0 & 0 & 0 & 0\\\\252 & 126 & 56 & 21 & 6 & 1 & 0 & 0 & 0 & 0\\\\924 & 462 & 210 & 84 & 28 & 7 & 1 & 0 & 0 & 0\\\\3432 & 1716 & 792 & 330 & 120 & 36 & 8 & 1 & 0 & 0\\\\12870 & 6435 & 3003 & 1287 & 495 & 165 & 45 & 9 & 1 & 0\\\\48620 & 24310 & 11440 & 5005 & 2002 & 715 & 220 & 55 & 10 & 1\\end{matrix}\\right]$$"
      ],
      "text/plain": [
       "⎡  1      0      0     0     0     0    0   0   0   0⎤\n",
       "⎢                                                    ⎥\n",
       "⎢  2      1      0     0     0     0    0   0   0   0⎥\n",
       "⎢                                                    ⎥\n",
       "⎢  6      3      1     0     0     0    0   0   0   0⎥\n",
       "⎢                                                    ⎥\n",
       "⎢ 20     10      4     1     0     0    0   0   0   0⎥\n",
       "⎢                                                    ⎥\n",
       "⎢ 70     35     15     5     1     0    0   0   0   0⎥\n",
       "⎢                                                    ⎥\n",
       "⎢ 252    126    56     21    6     1    0   0   0   0⎥\n",
       "⎢                                                    ⎥\n",
       "⎢ 924    462    210    84    28    7    1   0   0   0⎥\n",
       "⎢                                                    ⎥\n",
       "⎢3432   1716    792   330   120   36    8   1   0   0⎥\n",
       "⎢                                                    ⎥\n",
       "⎢12870  6435   3003   1287  495   165  45   9   1   0⎥\n",
       "⎢                                                    ⎥\n",
       "⎣48620  24310  11440  5005  2002  715  220  55  10  1⎦"
      ]
     },
     "execution_count": 29,
     "metadata": {},
     "output_type": "execute_result"
    }
   ],
   "source": [
    "n = 10\n",
    "riordan_matrix = zeros(n)\n",
    "for column in range(n):\n",
    "    d_n_k = Lambda(t, d(t)*(t*f(t))**column)\n",
    "    a_n = series(d_n_k(t), t, n=n)\n",
    "    for row in range(n):\n",
    "        riordan_matrix[row, column] = a_n.coeff(t, n=row)\n",
    "riordan_matrix"
   ]
  },
  {
   "cell_type": "markdown",
   "metadata": {},
   "source": [
    "Questa matrice ha come elemento generale\n",
    "\n",
    "\\begin{equation*}\n",
    "d_{n,k}=\\binom{2n-k}{k}.\n",
    "\\end{equation*}\n",
    "\n",
    "Quindi abbiamo che\n",
    "\n",
    "\\begin{equation*}\n",
    "d_{2n,n}=\\binom{3n}{2n}=\\binom{3n}{n}.\n",
    "\\end{equation*}"
   ]
  },
  {
   "cell_type": "code",
   "execution_count": 30,
   "metadata": {},
   "outputs": [
    {
     "data": {
      "image/png": "[encoded data removed]",
      "text/latex": [
       "$$\\left[\\begin{array}{ccccccccccccccccccc}0 & 0 & 0 & 0 & 0 & 0 & 0 & 0 & 0 & 1 & 0 & 0 & 0 & 0 & 0 & 0 & 0 & 0 & 0\\\\0 & 0 & 0 & 0 & 0 & 0 & 0 & 0 & 2 & 0 & 1 & 0 & 0 & 0 & 0 & 0 & 0 & 0 & 0\\\\0 & 0 & 0 & 0 & 0 & 0 & 0 & 6 & 0 & 3 & 0 & 1 & 0 & 0 & 0 & 0 & 0 & 0 & 0\\\\0 & 0 & 0 & 0 & 0 & 0 & 20 & 0 & 10 & 0 & 4 & 0 & 1 & 0 & 0 & 0 & 0 & 0 & 0\\\\0 & 0 & 0 & 0 & 0 & 70 & 0 & 35 & 0 & 15 & 0 & 5 & 0 & 1 & 0 & 0 & 0 & 0 & 0\\\\0 & 0 & 0 & 0 & 252 & 0 & 126 & 0 & 56 & 0 & 21 & 0 & 6 & 0 & 1 & 0 & 0 & 0 & 0\\\\0 & 0 & 0 & 924 & 0 & 462 & 0 & 210 & 0 & 84 & 0 & 28 & 0 & 7 & 0 & 1 & 0 & 0 & 0\\\\0 & 0 & 3432 & 0 & 1716 & 0 & 792 & 0 & 330 & 0 & 120 & 0 & 36 & 0 & 8 & 0 & 1 & 0 & 0\\\\0 & 12870 & 0 & 6435 & 0 & 3003 & 0 & 1287 & 0 & 495 & 0 & 165 & 0 & 45 & 0 & 9 & 0 & 1 & 0\\\\48620 & 0 & 24310 & 0 & 11440 & 0 & 5005 & 0 & 2002 & 0 & 715 & 0 & 220 & 0 & 55 & 0 & 10 & 0 & 1\\end{array}\\right]$$"
      ],
      "text/plain": [
       "⎡  0      0      0     0      0     0     0     0     0     1    0    0    0  \n",
       "⎢                                                                             \n",
       "⎢  0      0      0     0      0     0     0     0     2     0    1    0    0  \n",
       "⎢                                                                             \n",
       "⎢  0      0      0     0      0     0     0     6     0     3    0    1    0  \n",
       "⎢                                                                             \n",
       "⎢  0      0      0     0      0     0     20    0     10    0    4    0    1  \n",
       "⎢                                                                             \n",
       "⎢  0      0      0     0      0     70    0     35    0    15    0    5    0  \n",
       "⎢                                                                             \n",
       "⎢  0      0      0     0     252    0    126    0     56    0   21    0    6  \n",
       "⎢                                                                             \n",
       "⎢  0      0      0    924     0    462    0    210    0    84    0   28    0  \n",
       "⎢                                                                             \n",
       "⎢  0      0    3432    0    1716    0    792    0    330    0   120   0   36  \n",
       "⎢                                                                             \n",
       "⎢  0    12870    0    6435    0    3003   0    1287   0    495   0   165   0  \n",
       "⎢                                                                             \n",
       "⎣48620    0    24310   0    11440   0    5005   0    2002   0   715   0   220 \n",
       "\n",
       " 0   0   0  0   0  0⎤\n",
       "                    ⎥\n",
       " 0   0   0  0   0  0⎥\n",
       "                    ⎥\n",
       " 0   0   0  0   0  0⎥\n",
       "                    ⎥\n",
       " 0   0   0  0   0  0⎥\n",
       "                    ⎥\n",
       " 1   0   0  0   0  0⎥\n",
       "                    ⎥\n",
       " 0   1   0  0   0  0⎥\n",
       "                    ⎥\n",
       " 7   0   1  0   0  0⎥\n",
       "                    ⎥\n",
       " 0   8   0  1   0  0⎥\n",
       "                    ⎥\n",
       " 45  0   9  0   1  0⎥\n",
       "                    ⎥\n",
       " 0   55  0  10  0  1⎦"
      ]
     },
     "execution_count": 30,
     "metadata": {},
     "output_type": "execute_result"
    }
   ],
   "source": [
    "triangle = zeros(n, n*2-1)\n",
    "for i in range(n):\n",
    "    row = np.array(riordan_matrix[n-i-1, 0:n-i])\n",
    "    temp = np.zeros((1, n*2-2*i-1), dtype=row.dtype)\n",
    "    temp[:,::2] = row\n",
    "    triangle[n-i-1, i:n*2-i-1] = temp\n",
    "triangle"
   ]
  },
  {
   "cell_type": "markdown",
   "metadata": {},
   "source": [
    "Infatti osservando la matrice precedente possiamo facilmente notare che i coefficienti centrali sono 1, 3, 15, 84, 495, ... come definiti dal coefficiente binomiale precedente."
   ]
  },
  {
   "cell_type": "code",
   "execution_count": 31,
   "metadata": {},
   "outputs": [
    {
     "data": {
      "image/png": "[encoded data removed]",
      "text/latex": [
       "$$t \\left(- \\frac{\\sqrt[3]{-1}}{2} + \\frac{\\left(-1\\right)^{\\frac{2}{3}}}{2}\\right) + t^{2} \\left(- \\frac{\\sqrt[3]{-1}}{2} + \\frac{\\left(-1\\right)^{\\frac{2}{3}}}{2}\\right) + t^{3} \\left(- \\frac{3 \\sqrt[3]{-1}}{2} + \\frac{3 \\left(-1\\right)^{\\frac{2}{3}}}{2}\\right) + \\sqrt{t} \\left(- \\frac{\\sqrt[6]{-1} \\sqrt{3}}{3} + \\frac{\\left(-1\\right)^{\\frac{5}{6}} \\sqrt{3}}{3}\\right) + t^{\\frac{3}{2}} \\left(- \\frac{\\left(-1\\right)^{\\frac{5}{6}} \\sqrt{3}}{8} + \\frac{\\sqrt[6]{-1} \\sqrt{3}}{8}\\right) + t^{\\frac{5}{2}} \\left(- \\frac{35 \\left(-1\\right)^{\\frac{5}{6}} \\sqrt{3}}{128} + \\frac{35 \\sqrt[6]{-1} \\sqrt{3}}{128}\\right) + t^{\\frac{7}{2}} \\left(- \\frac{797 \\left(-1\\right)^{\\frac{5}{6}} \\sqrt{3}}{256} + \\frac{1001 \\sqrt[6]{-1} \\sqrt{3}}{1024}\\right) + O\\left(t^{4}\\right)$$"
      ],
      "text/plain": [
       "  ⎛  3 ____       2/3⎞      ⎛  3 ____       2/3⎞      ⎛    3 ____         2/3⎞\n",
       "  ⎜  ╲╱ -1    (-1)   ⎟    2 ⎜  ╲╱ -1    (-1)   ⎟    3 ⎜  3⋅╲╱ -1    3⋅(-1)   ⎟\n",
       "t⋅⎜- ────── + ───────⎟ + t ⋅⎜- ────── + ───────⎟ + t ⋅⎜- ──────── + ─────────⎟\n",
       "  ⎝    2         2   ⎠      ⎝    2         2   ⎠      ⎝     2           2    ⎠\n",
       "\n",
       "      ⎛  6 ____          5/6   ⎞        ⎛      5/6      6 ____   ⎞        ⎛   \n",
       "      ⎜  ╲╱ -1 ⋅√3   (-1)   ⋅√3⎟    3/2 ⎜  (-1)   ⋅√3   ╲╱ -1 ⋅√3⎟    5/2 ⎜  3\n",
       " + √t⋅⎜- ───────── + ──────────⎟ + t   ⋅⎜- ────────── + ─────────⎟ + t   ⋅⎜- ─\n",
       "      ⎝      3           3     ⎠        ⎝      8            8    ⎠        ⎝   \n",
       "\n",
       "      5/6         6 ____   ⎞        ⎛          5/6           6 ____   ⎞       \n",
       "5⋅(-1)   ⋅√3   35⋅╲╱ -1 ⋅√3⎟    7/2 ⎜  797⋅(-1)   ⋅√3   1001⋅╲╱ -1 ⋅√3⎟    ⎛ 4\n",
       "──────────── + ────────────⎟ + t   ⋅⎜- ────────────── + ──────────────⎟ + O⎝t \n",
       "    128            128     ⎠        ⎝       256              1024     ⎠       \n",
       "\n",
       " \n",
       "⎞\n",
       "⎠\n",
       " "
      ]
     },
     "execution_count": 31,
     "metadata": {},
     "output_type": "execute_result"
    }
   ],
   "source": [
    "vT=(v/f(v))\n",
    "eq=Eq(vT, t)\n",
    "sols = solve(eq, v)\n",
    "v2= Lambda([t],sols[0])\n",
    "series(v2(t), t, n=4)"
   ]
  },
  {
   "cell_type": "code",
   "execution_count": 32,
   "metadata": {},
   "outputs": [
    {
     "data": {
      "image/png": "[encoded data removed]",
      "text/latex": [
       "$$\\frac{2 t}{\\sqrt{- 4 t + 1} \\left(- \\sqrt{- 4 t + 1} + 1\\right)}$$"
      ],
      "text/plain": [
       "               2⋅t               \n",
       "─────────────────────────────────\n",
       "  __________ ⎛    __________    ⎞\n",
       "╲╱ -4⋅t + 1 ⋅⎝- ╲╱ -4⋅t + 1  + 1⎠"
      ]
     },
     "execution_count": 32,
     "metadata": {},
     "output_type": "execute_result"
    }
   ],
   "source": [
    "d(t)/f(t)"
   ]
  },
  {
   "cell_type": "code",
   "execution_count": 33,
   "metadata": {},
   "outputs": [
    {
     "data": {
      "image/png": "[encoded data removed]",
      "text/latex": [
       "$$\\frac{2 \\sqrt[3]{6} t + \\left(18 t^{2} + 2 \\sqrt{3} \\sqrt{t^{3} \\left(27 t - 4\\right)}\\right)^{\\frac{2}{3}}}{4 \\sqrt[3]{6} t + 2 \\cdot 2^{\\frac{2}{3}} \\left(9 t^{2} + \\sqrt{3} \\sqrt{t^{3} \\left(27 t - 4\\right)}\\right)^{\\frac{2}{3}} - \\sqrt[3]{9 t^{2} + \\sqrt{3} \\sqrt{t^{3} \\left(27 t - 4\\right)}} \\sqrt{\\frac{12 \\sqrt[3]{2} t}{\\sqrt[3]{9 t^{2} + \\sqrt{3} \\sqrt{t^{3} \\left(27 t - 4\\right)}}} + 2 \\cdot 6^{\\frac{2}{3}} \\sqrt[3]{9 t^{2} + \\sqrt{3} \\sqrt{t^{3} \\left(27 t - 4\\right)}} + 3 \\sqrt[3]{3}} + 3^{\\frac{2}{3}} \\sqrt[3]{9 t^{2} + \\sqrt{3} \\sqrt{t^{3} \\left(27 t - 4\\right)}}}$$"
      ],
      "text/plain": [
       "                                                                              \n",
       "                                                                              \n",
       "                                                                              \n",
       "                                                                              \n",
       "──────────────────────────────────────────────────────────────────────────────\n",
       "                                                                              \n",
       "                                                 2/3       ___________________\n",
       "                   ⎛             _______________⎞         ╱              _____\n",
       "  3 ___        2/3 ⎜   2        ╱  3            ⎟      3 ╱     2        ╱  3  \n",
       "4⋅╲╱ 6 ⋅t + 2⋅2   ⋅⎝9⋅t  + √3⋅╲╱  t ⋅(27⋅t - 4) ⎠    - ╲╱   9⋅t  + √3⋅╲╱  t ⋅(\n",
       "                                                                              \n",
       "                                                                              \n",
       "                                                                              \n",
       "                                                                              \n",
       "\n",
       "                                                           2/3                \n",
       "                          ⎛                _______________⎞                   \n",
       "                3 ___     ⎜    2          ╱  3            ⎟                   \n",
       "              2⋅╲╱ 6 ⋅t + ⎝18⋅t  + 2⋅√3⋅╲╱  t ⋅(27⋅t - 4) ⎠                   \n",
       "──────────────────────────────────────────────────────────────────────────────\n",
       "                     _________________________________________________________\n",
       "___________         ╱                                                 ________\n",
       "__________         ╱                 3 ___                           ╱        \n",
       "                  ╱               12⋅╲╱ 2 ⋅t                  2/3 3 ╱     2   \n",
       "27⋅t - 4)  ⋅     ╱    ────────────────────────────────── + 2⋅6   ⋅╲╱   9⋅t  + \n",
       "                ╱         ______________________________                      \n",
       "               ╱         ╱              _______________                       \n",
       "              ╱       3 ╱     2        ╱  3                                   \n",
       "            ╲╱        ╲╱   9⋅t  + √3⋅╲╱  t ⋅(27⋅t - 4)                        \n",
       "\n",
       "                                                                           \n",
       "                                                                           \n",
       "                                                                           \n",
       "                                                                           \n",
       "───────────────────────────────────────────────────────────────────────────\n",
       "_________________________________                                          \n",
       "______________________                       ______________________________\n",
       "      _______________                       ╱              _______________ \n",
       "     ╱  3                  3 ___     2/3 3 ╱     2        ╱  3             \n",
       "√3⋅╲╱  t ⋅(27⋅t - 4)   + 3⋅╲╱ 3   + 3   ⋅╲╱   9⋅t  + √3⋅╲╱  t ⋅(27⋅t - 4)  \n",
       "                                                                           \n",
       "                                                                           \n",
       "                                                                           \n",
       "                                                                           "
      ]
     },
     "execution_count": 33,
     "metadata": {},
     "output_type": "execute_result"
    }
   ],
   "source": [
    "rapp=simplify(d(v2(t))/f(v2(t)))\n",
    "rapp"
   ]
  },
  {
   "cell_type": "code",
   "execution_count": 34,
   "metadata": {},
   "outputs": [
    {
     "data": {
      "image/png": "[encoded data removed]",
      "text/latex": [
       "$$- \\frac{t \\left(- 9 t - \\frac{1458 t^{3} - 162 t^{2}}{6 \\sqrt{729 t^{4} - 108 t^{3}}}\\right)}{\\left(\\frac{27 t^{2}}{2} + \\frac{\\sqrt{729 t^{4} - 108 t^{3}}}{2}\\right)^{\\frac{4}{3}}} - \\frac{9 t + \\frac{1458 t^{3} - 162 t^{2}}{6 \\sqrt{729 t^{4} - 108 t^{3}}}}{3 \\left(\\frac{27 t^{2}}{2} + \\frac{\\sqrt{729 t^{4} - 108 t^{3}}}{2}\\right)^{\\frac{2}{3}}} - \\frac{1}{\\sqrt[3]{\\frac{27 t^{2}}{2} + \\frac{\\sqrt{729 t^{4} - 108 t^{3}}}{2}}}$$"
      ],
      "text/plain": [
       "    ⎛                3        2   ⎞                      3        2           \n",
       "    ⎜          1458⋅t  - 162⋅t    ⎟                1458⋅t  - 162⋅t            \n",
       "  t⋅⎜-9⋅t - ──────────────────────⎟       9⋅t + ──────────────────────        \n",
       "    ⎜            _________________⎟                  _________________        \n",
       "    ⎜           ╱      4        3 ⎟                 ╱      4        3         \n",
       "    ⎝       6⋅╲╱  729⋅t  - 108⋅t  ⎠             6⋅╲╱  729⋅t  - 108⋅t          \n",
       "- ───────────────────────────────── - ─────────────────────────────────── - ──\n",
       "                                4/3                                   2/3     \n",
       "  ⎛           _________________⎞        ⎛           _________________⎞        \n",
       "  ⎜    2     ╱      4        3 ⎟        ⎜    2     ╱      4        3 ⎟        \n",
       "  ⎜27⋅t    ╲╱  729⋅t  - 108⋅t  ⎟        ⎜27⋅t    ╲╱  729⋅t  - 108⋅t  ⎟        \n",
       "  ⎜───── + ────────────────────⎟      3⋅⎜───── + ────────────────────⎟      3 \n",
       "  ⎝  2              2          ⎠        ⎝  2              2          ⎠      ╲╱\n",
       "\n",
       "                                  \n",
       "                                  \n",
       "                                  \n",
       "                                  \n",
       "                                  \n",
       "               1                  \n",
       "──────────────────────────────────\n",
       "    ______________________________\n",
       "   ╱            _________________ \n",
       "  ╱      2     ╱      4        3  \n",
       " ╱   27⋅t    ╲╱  729⋅t  - 108⋅t   \n",
       "╱    ───── + ──────────────────── \n",
       "       2              2           "
      ]
     },
     "execution_count": 34,
     "metadata": {},
     "output_type": "execute_result"
    }
   ],
   "source": [
    "der=diff(v2(t),t)\n",
    "der"
   ]
  },
  {
   "cell_type": "code",
   "execution_count": 35,
   "metadata": {},
   "outputs": [
    {
     "data": {
      "image/png": "[encoded data removed]",
      "text/latex": [
       "$$\\frac{\\left(2 \\sqrt[3]{6} t + \\left(18 t^{2} + 2 \\sqrt{3} \\sqrt{t^{3} \\left(27 t - 4\\right)}\\right)^{\\frac{2}{3}}\\right) \\left(- \\frac{t \\left(- 9 t - \\frac{1458 t^{3} - 162 t^{2}}{6 \\sqrt{729 t^{4} - 108 t^{3}}}\\right)}{\\left(\\frac{27 t^{2}}{2} + \\frac{\\sqrt{729 t^{4} - 108 t^{3}}}{2}\\right)^{\\frac{4}{3}}} - \\frac{9 t + \\frac{1458 t^{3} - 162 t^{2}}{6 \\sqrt{729 t^{4} - 108 t^{3}}}}{3 \\left(\\frac{27 t^{2}}{2} + \\frac{\\sqrt{729 t^{4} - 108 t^{3}}}{2}\\right)^{\\frac{2}{3}}} - \\frac{1}{\\sqrt[3]{\\frac{27 t^{2}}{2} + \\frac{\\sqrt{729 t^{4} - 108 t^{3}}}{2}}}\\right)}{4 \\sqrt[3]{6} t + 2 \\cdot 2^{\\frac{2}{3}} \\left(9 t^{2} + \\sqrt{3} \\sqrt{t^{3} \\left(27 t - 4\\right)}\\right)^{\\frac{2}{3}} - \\sqrt[3]{9 t^{2} + \\sqrt{3} \\sqrt{t^{3} \\left(27 t - 4\\right)}} \\sqrt{\\frac{12 \\sqrt[3]{2} t}{\\sqrt[3]{9 t^{2} + \\sqrt{3} \\sqrt{t^{3} \\left(27 t - 4\\right)}}} + 2 \\cdot 6^{\\frac{2}{3}} \\sqrt[3]{9 t^{2} + \\sqrt{3} \\sqrt{t^{3} \\left(27 t - 4\\right)}} + 3 \\sqrt[3]{3}} + 3^{\\frac{2}{3}} \\sqrt[3]{9 t^{2} + \\sqrt{3} \\sqrt{t^{3} \\left(27 t - 4\\right)}}}$$"
      ],
      "text/plain": [
       "                                                                              \n",
       "                                                                              \n",
       "                                                                              \n",
       "                                 ⎛                                            \n",
       "                                 ⎜            ⎛                _______________\n",
       "                                 ⎜  3 ___     ⎜    2          ╱  3            \n",
       "                                 ⎝2⋅╲╱ 6 ⋅t + ⎝18⋅t  + 2⋅√3⋅╲╱  t ⋅(27⋅t - 4) \n",
       "                                                                              \n",
       "                                                                              \n",
       "                                                                              \n",
       "                                                                              \n",
       "                                                                              \n",
       "                                                                              \n",
       "──────────────────────────────────────────────────────────────────────────────\n",
       "                                                                              \n",
       "                                                 2/3       ___________________\n",
       "                   ⎛             _______________⎞         ╱              _____\n",
       "  3 ___        2/3 ⎜   2        ╱  3            ⎟      3 ╱     2        ╱  3  \n",
       "4⋅╲╱ 6 ⋅t + 2⋅2   ⋅⎝9⋅t  + √3⋅╲╱  t ⋅(27⋅t - 4) ⎠    - ╲╱   9⋅t  + √3⋅╲╱  t ⋅(\n",
       "                                                                              \n",
       "                                                                              \n",
       "                                                                              \n",
       "                                                                              \n",
       "\n",
       "      ⎛    ⎛                3        2   ⎞                      3        2    \n",
       "      ⎜    ⎜          1458⋅t  - 162⋅t    ⎟                1458⋅t  - 162⋅t     \n",
       "      ⎜  t⋅⎜-9⋅t - ──────────────────────⎟       9⋅t + ────────────────────── \n",
       " 2/3⎞ ⎜    ⎜            _________________⎟                  _________________ \n",
       "⎞   ⎟ ⎜    ⎜           ╱      4        3 ⎟                 ╱      4        3  \n",
       "⎟   ⎟ ⎜    ⎝       6⋅╲╱  729⋅t  - 108⋅t  ⎠             6⋅╲╱  729⋅t  - 108⋅t   \n",
       "⎠   ⎠⋅⎜- ───────────────────────────────── - ─────────────────────────────────\n",
       "      ⎜                                4/3                                   2\n",
       "      ⎜  ⎛           _________________⎞        ⎛           _________________⎞ \n",
       "      ⎜  ⎜    2     ╱      4        3 ⎟        ⎜    2     ╱      4        3 ⎟ \n",
       "      ⎜  ⎜27⋅t    ╲╱  729⋅t  - 108⋅t  ⎟        ⎜27⋅t    ╲╱  729⋅t  - 108⋅t  ⎟ \n",
       "      ⎜  ⎜───── + ────────────────────⎟      3⋅⎜───── + ────────────────────⎟ \n",
       "      ⎝  ⎝  2              2          ⎠        ⎝  2              2          ⎠ \n",
       "──────────────────────────────────────────────────────────────────────────────\n",
       "                     _________________________________________________________\n",
       "___________         ╱                                                 ________\n",
       "__________         ╱                 3 ___                           ╱        \n",
       "                  ╱               12⋅╲╱ 2 ⋅t                  2/3 3 ╱     2   \n",
       "27⋅t - 4)  ⋅     ╱    ────────────────────────────────── + 2⋅6   ⋅╲╱   9⋅t  + \n",
       "                ╱         ______________________________                      \n",
       "               ╱         ╱              _______________                       \n",
       "              ╱       3 ╱     2        ╱  3                                   \n",
       "            ╲╱        ╲╱   9⋅t  + √3⋅╲╱  t ⋅(27⋅t - 4)                        \n",
       "\n",
       "                                         ⎞                                 \n",
       "                                         ⎟                                 \n",
       "                                         ⎟                                 \n",
       "                                         ⎟                                 \n",
       "                                         ⎟                                 \n",
       "                      1                  ⎟                                 \n",
       "── - ────────────────────────────────────⎟                                 \n",
       "/3         ______________________________⎟                                 \n",
       "          ╱            _________________ ⎟                                 \n",
       "         ╱      2     ╱      4        3  ⎟                                 \n",
       "        ╱   27⋅t    ╲╱  729⋅t  - 108⋅t   ⎟                                 \n",
       "     3 ╱    ───── + ──────────────────── ⎟                                 \n",
       "     ╲╱       2              2           ⎠                                 \n",
       "───────────────────────────────────────────────────────────────────────────\n",
       "_________________________________                                          \n",
       "______________________                       ______________________________\n",
       "      _______________                       ╱              _______________ \n",
       "     ╱  3                  3 ___     2/3 3 ╱     2        ╱  3             \n",
       "√3⋅╲╱  t ⋅(27⋅t - 4)   + 3⋅╲╱ 3   + 3   ⋅╲╱   9⋅t  + √3⋅╲╱  t ⋅(27⋅t - 4)  \n",
       "                                                                           \n",
       "                                                                           \n",
       "                                                                           \n",
       "                                                                           "
      ]
     },
     "execution_count": 35,
     "metadata": {},
     "output_type": "execute_result"
    }
   ],
   "source": [
    "f_gen=Lambda([t],(rapp*der))\n",
    "f_gen(t)"
   ]
  },
  {
   "cell_type": "markdown",
   "metadata": {},
   "source": [
    "Vediamo che anche nel caso di questo array di Riordan relativamente semplice la funzione generatrice dei termini centrali e' tutt'altro che elementare."
   ]
  }
 ],
 "metadata": {
  "kernelspec": {
   "display_name": "Python 3",
   "language": "python",
   "name": "python3"
  },
  "language_info": {
   "codemirror_mode": {
    "name": "ipython",
    "version": 3
   },
   "file_extension": ".py",
   "mimetype": "text/x-python",
   "name": "python",
   "nbconvert_exporter": "python",
   "pygments_lexer": "ipython3",
   "version": "3.7.2"
  }
 },
 "nbformat": 4,
 "nbformat_minor": 2
}
