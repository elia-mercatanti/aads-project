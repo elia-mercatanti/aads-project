{
 "cells": [
  {
   "cell_type": "markdown",
   "metadata": {},
   "source": [
    "__AUTHORS__ = Elia Mercatanti, Matteo Gemignani\n",
    "\n",
    "__EMAIL__ = elia.mercatanti@stud.unifi.it, matteo.gemignani@stud.unifi.it"
   ]
  },
  {
   "cell_type": "markdown",
   "metadata": {},
   "source": [
    "# <center> Progetto di Analysis of Algorithms and Data Structures - 2018/2019 </center>\n",
    "# <center> - Coefficienti Centrali delle Matrici di Riordan - </center>\n",
    "\n",
    "Lo scopo di questo Notebook è quello di riprodurre alcuni risultati presentati in \"On the Central Coefficients of Riordan Matrices\" (Paul Barry, 2013), disponibile a questo [link](https://cs.uwaterloo.ca/journals/JIS/VOL16/Barry1/barry242.html), attraverso la libreria di Python *Sympy* per l'utlizzo del metodo simbolico.\n",
    "In particolare, utilizzeremo il teorema di inversione di Lagrange per caratterizzare la funzione generatrice dei coefficienti centrali degli elementi di matrici di Riordan. Applicheremo il risultato ottenuto per calcolare la funzione generatrice dei coefficienti centrali di alcuni arrays di Riordan definiti da espressioni razionali e irrazionali.\n",
    "\n",
    "## Definizioni su Sequenze di Interi, Inversione di Lagrange e Array di Riordan\n",
    "\n",
    "### Funzione Generatrice e Operatore \"Coefficente di\"\n",
    "\n",
    "Per una sequenza di interi $a_n$, che è un elemento di $\\mathbb{Z}^\\mathbb{N}$, la serie di potenze $f(t)=\\sum^\\infty_{k=0}a_kt^k$ è chiamata *funzione generatrice* o f.g. della sequenza. $a_n$ è dunque il coefficiente di $t^n$ in questa serie. Rappresentiamo questo con $a_n=[t^n]f(t)$. Per esempio, $F_n=[t^n]\\frac{t}{1-t-t^2}$ è l'$n$-esimo numero di Fibonacci, mentre $C_n=[t^n]\\frac{1-\\sqrt{1-4t}}{2t}$ è l'$n$-esimo numero di Catalan. \n",
    "\n",
    "### Inversa Composizionale\n",
    "Per una serie di potenze $f(t)=\\sum^\\infty_{k=0}a_kt^k$ con $f(0)=0$ e $f'(0)\\neq0$ definiamo la *reversione* o l'*inversa composizionale* di $f$ come la serie di potenze $\\bar{f}(t)$ (anche scritta $f^{[-1]}(t)$) tale che:\n",
    "\n",
    "<a name=\"inversa\">  </a>\n",
    "\\begin{equation}\n",
    "f(\\bar{f}(t))=t\n",
    "\\end{equation}\n",
    "\n",
    "### Teorema di Inversione di Lagrange\n",
    "\n",
    "Supponiamo che una serie formale di potenze $w=w(t)$ è implicitamente definita dalla relazione $w=t\\phi(w)$, dove $\\phi(w)$ è una serie formale di potenze tale che $\\phi(0)=0$. Quindi, per qualsiasi serie formale di potenze $F(t)$,\n",
    "\n",
    "\\begin{equation}\n",
    "[t^n]F(w(t))=\\frac{1}{n}[t^{n-1}]F'(t)(\\phi(t))^n\n",
    "\\end{equation}\n",
    "\n",
    "###  Riordan Array <a name=\"riordan\">  </a>\n",
    "Un array di Riordan è una coppia $D=\\mathcal{R}(d(t), h(t))$, dove $d(t)$ e $h(t)$ sono due serie di potenze formali (due funzioni generatrici) tali che $d(0)\\neq0$ e $h(0)\\neq0$. La coppia definisce una matrice triangolare inferiore infinita $(d_{n,k})_{n,k\\in\\mathbb{N}}$, dove:\n",
    "\n",
    "\\begin{equation}\n",
    "d_{n,k}=[t^n]d(t)(h(t))^k\n",
    "\\end{equation}\n",
    "\n",
    "## Teorema per il Calcolo della Funzione Generatrice dei Coefficienti Centrali di una Matrice di Riordan\n",
    "\n",
    "Sia $(d(t),h(t))=(d(t),tf(t))$ un elemento del gruppo di matrici di Riordan $\\mathcal{R}$ (con $f(0)\\neq0$). Sia $d_{n,k}$ l'$(n,k)$-esimo elemento di questa matrice, e sia $v(t)$ la seguente serie di potenze (con $v(0)\\neq0$):\n",
    "\n",
    "<a name=\"v\">  </a>\n",
    "\\begin{equation}\n",
    "v(t)=\\overline{\\left(\\frac{t}{f(t)}\\right)}.\n",
    "\\end{equation}\n",
    "\n",
    "Dunque la funzione generatrice della sequenza di termini centrali $d_{2n,n}$ è data da:\n",
    "\n",
    "<a name=\"d2nn\">  </a>\n",
    "\\begin{equation}\n",
    "\\frac{d(v(t))}{f(v(t))}\\frac{d}{dt}v(t).\n",
    "\\end{equation}"
   ]
  },
  {
   "cell_type": "markdown",
   "metadata": {},
   "source": [
    "## Esempio con Espressioni Razionali\n",
    "\n",
    "Per prima cosa, importiamo la libreria Sympy che verrà utilizzata per il calcolo simbolico più alcune altre librerie per stampare in modo accurato le espressioni matematiche che utilizzeremo."
   ]
  },
  {
   "cell_type": "code",
   "execution_count": 1,
   "metadata": {},
   "outputs": [],
   "source": [
    "from sympy import init_printing\n",
    "from sympy import Lambda, Eq, solve, diff, simplify, series, zeros, Matrix\n",
    "from sympy.abc import t, v\n",
    "import numpy as np"
   ]
  },
  {
   "cell_type": "markdown",
   "metadata": {},
   "source": [
    "Utiliziamo la seguente funzione per stampare graficamente in modo accurato le espressioni matematiche che utilizzeremo."
   ]
  },
  {
   "cell_type": "code",
   "execution_count": 2,
   "metadata": {},
   "outputs": [],
   "source": [
    "init_printing()"
   ]
  },
  {
   "cell_type": "markdown",
   "metadata": {},
   "source": [
    "Prendiamo in considerazione la seguente coppia di funzioni generatrici $d(t)=\\frac{1}{1-2t}$ e $f(t)=\\frac{1-2t}{1-3t}$."
   ]
  },
  {
   "cell_type": "code",
   "execution_count": 3,
   "metadata": {},
   "outputs": [
    {
     "data": {
      "image/png": "[encoded data removed]",
      "text/latex": [
       "$$\\left( t \\mapsto \\frac{1}{- 2 t + 1} \\right)$$"
      ],
      "text/plain": [
       "       1    \n",
       "t ↦ ────────\n",
       "    -2⋅t + 1"
      ]
     },
     "execution_count": 3,
     "metadata": {},
     "output_type": "execute_result"
    }
   ],
   "source": [
    "d = Lambda(t, 1/(1-2*t))\n",
    "d"
   ]
  },
  {
   "cell_type": "code",
   "execution_count": 4,
   "metadata": {},
   "outputs": [
    {
     "data": {
      "image/png": "[encoded data removed]",
      "text/latex": [
       "$$\\left( t \\mapsto \\frac{- 2 t + 1}{- 3 t + 1} \\right)$$"
      ],
      "text/plain": [
       "    -2⋅t + 1\n",
       "t ↦ ────────\n",
       "    -3⋅t + 1"
      ]
     },
     "execution_count": 4,
     "metadata": {},
     "output_type": "execute_result"
    }
   ],
   "source": [
    "f = Lambda(t, (1-2*t)/(1-3*t))\n",
    "f"
   ]
  },
  {
   "cell_type": "markdown",
   "metadata": {},
   "source": [
    "Che formano una matrice di Riordan $\\mathcal{R}(d(t), tf(t))$ (([3](#riordan))."
   ]
  },
  {
   "cell_type": "code",
   "execution_count": 5,
   "metadata": {},
   "outputs": [
    {
     "data": {
      "image/png": "[encoded data removed]",
      "text/latex": [
       "$$\\left ( \\left( t \\mapsto \\frac{1}{- 2 t + 1} \\right), \\quad t \\left( t \\mapsto \\frac{- 2 t + 1}{- 3 t + 1} \\right)\\right )$$"
      ],
      "text/plain": [
       "⎛       1        ⎛    -2⋅t + 1⎞⎞\n",
       "⎜t ↦ ────────, t⋅⎜t ↦ ────────⎟⎟\n",
       "⎝    -2⋅t + 1    ⎝    -3⋅t + 1⎠⎠"
      ]
     },
     "execution_count": 5,
     "metadata": {},
     "output_type": "execute_result"
    }
   ],
   "source": [
    "(d, t*f)"
   ]
  },
  {
   "cell_type": "markdown",
   "metadata": {},
   "source": [
    "I coefficenti centrali di questa matrice iniziano con 1, 3, 15, 90, 579, 3858, ..., vediamo dunque come calcolarli utilizzando i teoremi e le definizioni presentate precedentemente.\n",
    "\n",
    "Dobbiamo sostanzialmente applicare il Teorema per il calcolo della funzione generatrice dei coefficienti centrali di una matrice di riordan, e dunque per prima cosa dobbiamo ricavare la funzione $v(t)$ definita in ([4](#v)). Che nel nostro esempio risulta quindi uguale a\n",
    "\n",
    "\\begin{equation*}\n",
    "v(t)=\\overline{\\left(\\frac{t}{f(t)}\\right)}=\\overline{\\left(\\frac{t(1-3t)}{1-2t}\\right)}.\n",
    "\\end{equation*}\n",
    "\n",
    "Per ricavare dunque $v(t)$ in forma esplicita dovremo calcolarci l'inversa composizionale di $\\frac{t(1-3t)}{1-2t}$ applicando la definizione vista in ([1](#inversa)). Quindi $v(t)$ è la soluzione apropriata (con $v(0)=0$) della seguente equazione:\n",
    "\n",
    "\\begin{equation*}\n",
    "\\frac{v(1-3v)}{1-2v}=t.\n",
    "\\end{equation*}"
   ]
  },
  {
   "cell_type": "code",
   "execution_count": 6,
   "metadata": {},
   "outputs": [
    {
     "data": {
      "image/png": "[encoded data removed]",
      "text/latex": [
       "$$\\frac{v \\left(- 3 v + 1\\right)}{- 2 v + 1} = t$$"
      ],
      "text/plain": [
       "v⋅(-3⋅v + 1)    \n",
       "──────────── = t\n",
       "  -2⋅v + 1      "
      ]
     },
     "execution_count": 6,
     "metadata": {},
     "output_type": "execute_result"
    }
   ],
   "source": [
    "equation = Eq(v*(1-3*v)/(1-2*v), t)\n",
    "equation"
   ]
  },
  {
   "cell_type": "markdown",
   "metadata": {},
   "source": [
    "Risolviamo l'equazione:"
   ]
  },
  {
   "cell_type": "code",
   "execution_count": 7,
   "metadata": {},
   "outputs": [
    {
     "data": {
      "image/png": "[encoded data removed]",
      "text/latex": [
       "$$\\frac{t}{3} - \\frac{\\sqrt{4 t^{2} - 8 t + 1}}{6} + \\frac{1}{6}$$"
      ],
      "text/plain": [
       "       ________________    \n",
       "      ╱    2               \n",
       "t   ╲╱  4⋅t  - 8⋅t + 1    1\n",
       "─ - ─────────────────── + ─\n",
       "3            6            6"
      ]
     },
     "execution_count": 7,
     "metadata": {},
     "output_type": "execute_result"
    }
   ],
   "source": [
    "sol = solve(equation, v)\n",
    "sol[0]"
   ]
  },
  {
   "cell_type": "markdown",
   "metadata": {},
   "source": [
    "Troviamo dunque che la soluzione corretta è:\n",
    "\n",
    "\\begin{equation*}\n",
    "v(t)=\\frac{1+2t-\\sqrt{1-8t+4t^2}}{6}.\n",
    "\\end{equation*}"
   ]
  },
  {
   "cell_type": "code",
   "execution_count": 8,
   "metadata": {},
   "outputs": [
    {
     "data": {
      "image/png": "[encoded data removed]",
      "text/latex": [
       "$$\\left( t \\mapsto \\frac{t}{3} - \\frac{\\sqrt{4 t^{2} - 8 t + 1}}{6} + \\frac{1}{6} \\right)$$"
      ],
      "text/plain": [
       "           ________________    \n",
       "          ╱    2               \n",
       "    t   ╲╱  4⋅t  - 8⋅t + 1    1\n",
       "t ↦ ─ - ─────────────────── + ─\n",
       "    3            6            6"
      ]
     },
     "execution_count": 8,
     "metadata": {},
     "output_type": "execute_result"
    }
   ],
   "source": [
    "v = Lambda(t, sol[0])\n",
    "v"
   ]
  },
  {
   "cell_type": "markdown",
   "metadata": {},
   "source": [
    "A questo punto non ci resta che applicare il principale risultato del teorema, ovvero, per trovare la funzione generatrice $d_{2n,n}$ dei coefficienti centrali basterà calcolare la formula ([5](#d2nn)), nel nostro esempio con\n",
    "\n",
    "\\begin{equation*}\n",
    "\\frac{d(t)}{f(t)}=\\frac{1-3t}{(1-2t)^2}.\n",
    "\\end{equation*}"
   ]
  },
  {
   "cell_type": "code",
   "execution_count": 9,
   "metadata": {},
   "outputs": [
    {
     "data": {
      "image/png": "[encoded data removed]",
      "text/latex": [
       "$$\\left( t \\mapsto \\frac{- 6 t + 3 \\sqrt{4 t^{2} - 8 t + 1} + 3}{2 \\left(- 2 t + \\sqrt{4 t^{2} - 8 t + 1} + 2\\right) \\sqrt{4 t^{2} - 8 t + 1}} \\right)$$"
      ],
      "text/plain": [
       "                           ________________               \n",
       "                          ╱    2                          \n",
       "               -6⋅t + 3⋅╲╱  4⋅t  - 8⋅t + 1  + 3           \n",
       "t ↦ ──────────────────────────────────────────────────────\n",
       "      ⎛          ________________    ⎞    ________________\n",
       "      ⎜         ╱    2               ⎟   ╱    2           \n",
       "    2⋅⎝-2⋅t + ╲╱  4⋅t  - 8⋅t + 1  + 2⎠⋅╲╱  4⋅t  - 8⋅t + 1 "
      ]
     },
     "execution_count": 9,
     "metadata": {},
     "output_type": "execute_result"
    }
   ],
   "source": [
    "d_2n_n = Lambda(t, d(v(t))/f(v(t)) * diff(v(t), t))\n",
    "d_2n_n = simplify(d_2n_n)\n",
    "d_2n_n"
   ]
  },
  {
   "cell_type": "markdown",
   "metadata": {},
   "source": [
    "Troviamo dunque che la funzione generatrice $d_{2n,n}$ è data da:\n",
    "\n",
    "\\begin{equation}\n",
    "d_{2n,n}=\\frac{d(v(t))}{f(v(t))}\\frac{d}{dt}v(t)=\\frac{1+2t+\\sqrt{1-8t+4t^2}}{2\\sqrt{1-8t+4t^2}}.\n",
    "\\end{equation}"
   ]
  },
  {
   "cell_type": "markdown",
   "metadata": {},
   "source": [
    "Che in forma in serie di potenze diventa:"
   ]
  },
  {
   "cell_type": "code",
   "execution_count": 10,
   "metadata": {},
   "outputs": [
    {
     "data": {
      "image/png": "[encoded data removed]",
      "text/latex": [
       "$$1 + 3 t + 15 t^{2} + 90 t^{3} + 579 t^{4} + 3858 t^{5} + 26262 t^{6} + 181380 t^{7} + 1265955 t^{8} + 8906706 t^{9} + O\\left(t^{10}\\right)$$"
      ],
      "text/plain": [
       "              2       3        4         5          6           7            8\n",
       "1 + 3⋅t + 15⋅t  + 90⋅t  + 579⋅t  + 3858⋅t  + 26262⋅t  + 181380⋅t  + 1265955⋅t \n",
       "\n",
       "            9    ⎛ 10⎞\n",
       " + 8906706⋅t  + O⎝t  ⎠"
      ]
     },
     "execution_count": 10,
     "metadata": {},
     "output_type": "execute_result"
    }
   ],
   "source": [
    "fg = series(d_2n_n(t), t, n=10)\n",
    "fg"
   ]
  },
  {
   "cell_type": "markdown",
   "metadata": {},
   "source": [
    "E in questa forma è facilmente osservabile come i primi coefficenti di tale serie siano effettivamente 1, 3, 15, 90, 579, 3858, ... \n",
    "\n",
    "Per una prova finale possiamo stampare la matrice di Riordan corrispondente alle due funzioni generatrici scelte ($d(t)$ e $f(t)$) e verificare che i suoi coefficenti centrali siano effetivamente quelli indicata dalla funzione generatrice $d_{2n,n}$ appena calcolata. Calcoliamo dunque tale matrice limitandoci ad un numero di righe e colonne pari a $n$, definito qui sotto."
   ]
  },
  {
   "cell_type": "code",
   "execution_count": 11,
   "metadata": {},
   "outputs": [
    {
     "data": {
      "image/png": "[encoded data removed]",
      "text/latex": [
       "$$\\left[\\begin{matrix}1 & 0 & 0 & 0 & 0 & 0 & 0 & 0 & 0 & 0\\\\2 & 1 & 0 & 0 & 0 & 0 & 0 & 0 & 0 & 0\\\\4 & 3 & 1 & 0 & 0 & 0 & 0 & 0 & 0 & 0\\\\8 & 9 & 4 & 1 & 0 & 0 & 0 & 0 & 0 & 0\\\\16 & 27 & 15 & 5 & 1 & 0 & 0 & 0 & 0 & 0\\\\32 & 81 & 54 & 22 & 6 & 1 & 0 & 0 & 0 & 0\\\\64 & 243 & 189 & 90 & 30 & 7 & 1 & 0 & 0 & 0\\\\128 & 729 & 648 & 351 & 136 & 39 & 8 & 1 & 0 & 0\\\\256 & 2187 & 2187 & 1323 & 579 & 193 & 49 & 9 & 1 & 0\\\\512 & 6561 & 7290 & 4860 & 2358 & 886 & 262 & 60 & 10 & 1\\end{matrix}\\right]$$"
      ],
      "text/plain": [
       "⎡ 1    0     0     0     0     0    0   0   0   0⎤\n",
       "⎢                                                ⎥\n",
       "⎢ 2    1     0     0     0     0    0   0   0   0⎥\n",
       "⎢                                                ⎥\n",
       "⎢ 4    3     1     0     0     0    0   0   0   0⎥\n",
       "⎢                                                ⎥\n",
       "⎢ 8    9     4     1     0     0    0   0   0   0⎥\n",
       "⎢                                                ⎥\n",
       "⎢16    27    15    5     1     0    0   0   0   0⎥\n",
       "⎢                                                ⎥\n",
       "⎢32    81    54    22    6     1    0   0   0   0⎥\n",
       "⎢                                                ⎥\n",
       "⎢64   243   189    90    30    7    1   0   0   0⎥\n",
       "⎢                                                ⎥\n",
       "⎢128  729   648   351   136   39    8   1   0   0⎥\n",
       "⎢                                                ⎥\n",
       "⎢256  2187  2187  1323  579   193  49   9   1   0⎥\n",
       "⎢                                                ⎥\n",
       "⎣512  6561  7290  4860  2358  886  262  60  10  1⎦"
      ]
     },
     "execution_count": 11,
     "metadata": {},
     "output_type": "execute_result"
    }
   ],
   "source": [
    "n = 10\n",
    "matrix = zeros(n)\n",
    "for column in range(n):\n",
    "    d_n_k = Lambda(t, d(t)*(t*f(t))**column)\n",
    "    a_n = series(d_n_k(t), t, n=n)\n",
    "    for row in range(n):\n",
    "        matrix[row, column] = a_n.coeff(t, n=row)\n",
    "matrix"
   ]
  },
  {
   "cell_type": "markdown",
   "metadata": {},
   "source": [
    "Se riportiamo i termini della matrice precedente ad una forma a \"piramide\" possiamo scovare agilmente i coefficenti centrali di tale matrice. Tali termini infatti sono tutti quelli che sono presenti nella colonna centrale e più \"alta\" di numeri."
   ]
  },
  {
   "cell_type": "code",
   "execution_count": 12,
   "metadata": {},
   "outputs": [
    {
     "data": {
      "image/png": "[encoded data removed]",
      "text/latex": [
       "$$\\left[\\begin{array}{ccccccccccccccccccc}0 & 0 & 0 & 0 & 0 & 0 & 0 & 0 & 0 & 1 & 0 & 0 & 0 & 0 & 0 & 0 & 0 & 0 & 0\\\\0 & 0 & 0 & 0 & 0 & 0 & 0 & 0 & 2 & 0 & 1 & 0 & 0 & 0 & 0 & 0 & 0 & 0 & 0\\\\0 & 0 & 0 & 0 & 0 & 0 & 0 & 4 & 0 & 3 & 0 & 1 & 0 & 0 & 0 & 0 & 0 & 0 & 0\\\\0 & 0 & 0 & 0 & 0 & 0 & 8 & 0 & 9 & 0 & 4 & 0 & 1 & 0 & 0 & 0 & 0 & 0 & 0\\\\0 & 0 & 0 & 0 & 0 & 16 & 0 & 27 & 0 & 15 & 0 & 5 & 0 & 1 & 0 & 0 & 0 & 0 & 0\\\\0 & 0 & 0 & 0 & 32 & 0 & 81 & 0 & 54 & 0 & 22 & 0 & 6 & 0 & 1 & 0 & 0 & 0 & 0\\\\0 & 0 & 0 & 64 & 0 & 243 & 0 & 189 & 0 & 90 & 0 & 30 & 0 & 7 & 0 & 1 & 0 & 0 & 0\\\\0 & 0 & 128 & 0 & 729 & 0 & 648 & 0 & 351 & 0 & 136 & 0 & 39 & 0 & 8 & 0 & 1 & 0 & 0\\\\0 & 256 & 0 & 2187 & 0 & 2187 & 0 & 1323 & 0 & 579 & 0 & 193 & 0 & 49 & 0 & 9 & 0 & 1 & 0\\\\512 & 0 & 6561 & 0 & 7290 & 0 & 4860 & 0 & 2358 & 0 & 886 & 0 & 262 & 0 & 60 & 0 & 10 & 0 & 1\\end{array}\\right]$$"
      ],
      "text/plain": [
       "⎡ 0    0    0     0     0     0     0     0     0     1    0    0    0   0   0\n",
       "⎢                                                                             \n",
       "⎢ 0    0    0     0     0     0     0     0     2     0    1    0    0   0   0\n",
       "⎢                                                                             \n",
       "⎢ 0    0    0     0     0     0     0     4     0     3    0    1    0   0   0\n",
       "⎢                                                                             \n",
       "⎢ 0    0    0     0     0     0     8     0     9     0    4    0    1   0   0\n",
       "⎢                                                                             \n",
       "⎢ 0    0    0     0     0     16    0     27    0    15    0    5    0   1   0\n",
       "⎢                                                                             \n",
       "⎢ 0    0    0     0     32    0     81    0     54    0   22    0    6   0   1\n",
       "⎢                                                                             \n",
       "⎢ 0    0    0     64    0    243    0    189    0    90    0   30    0   7   0\n",
       "⎢                                                                             \n",
       "⎢ 0    0   128    0    729    0    648    0    351    0   136   0   39   0   8\n",
       "⎢                                                                             \n",
       "⎢ 0   256   0    2187   0    2187   0    1323   0    579   0   193   0   49  0\n",
       "⎢                                                                             \n",
       "⎣512   0   6561   0    7290   0    4860   0    2358   0   886   0   262  0   6\n",
       "\n",
       "   0  0   0  0⎤\n",
       "              ⎥\n",
       "   0  0   0  0⎥\n",
       "              ⎥\n",
       "   0  0   0  0⎥\n",
       "              ⎥\n",
       "   0  0   0  0⎥\n",
       "              ⎥\n",
       "   0  0   0  0⎥\n",
       "              ⎥\n",
       "   0  0   0  0⎥\n",
       "              ⎥\n",
       "   1  0   0  0⎥\n",
       "              ⎥\n",
       "   0  1   0  0⎥\n",
       "              ⎥\n",
       "   9  0   1  0⎥\n",
       "              ⎥\n",
       "0  0  10  0  1⎦"
      ]
     },
     "execution_count": 12,
     "metadata": {},
     "output_type": "execute_result"
    }
   ],
   "source": [
    "triangle = zeros(n, n*2-1)\n",
    "for i in range(n):\n",
    "    row = np.array(matrix[n-i-1, 0:n-i])\n",
    "    temp = np.zeros((1, n*2-2*i-1), dtype=row.dtype)\n",
    "    temp[:,::2] = row\n",
    "    triangle[n-i-1, i:n*2-i-1] = temp\n",
    "triangle"
   ]
  },
  {
   "cell_type": "markdown",
   "metadata": {},
   "source": [
    "Osservando la matrice precedente possiamo confermare senza ombra di dubbio che i primi coefficienti centrali della matrice di Riordan considerata sono proprio 1, 3, 15, 90, 579, 3858, ... "
   ]
  }
 ],
 "metadata": {
  "kernelspec": {
   "display_name": "Python 3",
   "language": "python",
   "name": "python3"
  },
  "language_info": {
   "codemirror_mode": {
    "name": "ipython",
    "version": 3
   },
   "file_extension": ".py",
   "mimetype": "text/x-python",
   "name": "python",
   "nbconvert_exporter": "python",
   "pygments_lexer": "ipython3",
   "version": "3.7.2"
  }
 },
 "nbformat": 4,
 "nbformat_minor": 2
}
