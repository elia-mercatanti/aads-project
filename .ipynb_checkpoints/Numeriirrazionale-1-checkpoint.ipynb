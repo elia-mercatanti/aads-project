{
 "cells": [
  {
   "cell_type": "markdown",
   "metadata": {},
   "source": [
    "## Esempio con Espressioni Irazionali\n",
    "Importimo le librerie utili per utilizzare SymPy"
   ]
  },
  {
   "cell_type": "code",
   "execution_count": 135,
   "metadata": {
    "collapsed": true
   },
   "outputs": [],
   "source": [
    "import math\n",
    "from sympy import *\n",
    "from sympy.abc import *\n",
    "\n",
    "from sympy.plotting import plot\n",
    "\n",
    "init_printing()"
   ]
  },
  {
   "cell_type": "markdown",
   "metadata": {},
   "source": [
    "Dobbiamo analizare al coppia $$\\bigg(\\frac{1}{\\sqrt{1-4t}},\\frac{t}{c(t)}\\bigg)$$\n",
    "dove $$c(t)=\\frac{1-\\sqrt{1-4t}}{2t}$$\n",
    "Quindi adesso utilizando la classe *Lambda* disponibile nel pacchetto definisco la prima funzione "
   ]
  },
  {
   "cell_type": "code",
   "execution_count": 136,
   "metadata": {},
   "outputs": [
    {
     "data": {
      "image/png": "[encoded data removed]",
      "text/latex": [
       "$$\\frac{1}{\\sqrt{- 4 t + 1}}$$"
      ],
      "text/plain": [
       "     1      \n",
       "────────────\n",
       "  __________\n",
       "╲╱ -4⋅t + 1 "
      ]
     },
     "execution_count": 136,
     "metadata": {},
     "output_type": "execute_result"
    }
   ],
   "source": [
    "d = Lambda([t], 1/(sqrt(1-4*t)))\n",
    "d(t)"
   ]
  },
  {
   "cell_type": "markdown",
   "metadata": {},
   "source": [
    "In modo anlogo a prima definico $f(t)$ che in questo caso corisponde a $\\frac{1}{c(t)}$ "
   ]
  },
  {
   "cell_type": "code",
   "execution_count": 154,
   "metadata": {},
   "outputs": [
    {
     "data": {
      "image/png": "[encoded data removed]",
      "text/latex": [
       "$$\\frac{2 t}{- \\sqrt{- 4 t + 1} + 1}$$"
      ],
      "text/plain": [
       "       2⋅t        \n",
       "──────────────────\n",
       "    __________    \n",
       "- ╲╱ -4⋅t + 1  + 1"
      ]
     },
     "execution_count": 154,
     "metadata": {},
     "output_type": "execute_result"
    }
   ],
   "source": [
    "f= Lambda([t], (2*t)/(1-sqrt(1-4*t)))\n",
    "f(t)"
   ]
  },
  {
   "cell_type": "markdown",
   "metadata": {},
   "source": [
    "Quindi la matrice di *Riordan*  verrà costrita come segue: l'elemento $r_{i,j}$ sarà:$$r_{i,j}=[t^i]d(t)(tf(t))^j$$  quella delle funzioni sopra citate sarà:"
   ]
  },
  {
   "cell_type": "code",
   "execution_count": 138,
   "metadata": {},
   "outputs": [
    {
     "data": {
      "image/png": "[encoded data removed]",
      "text/latex": [
       "$$\\left[\\begin{matrix}1 & 0 & 0 & 0 & 0 & 0 & 0 & 0 & 0 & 0\\\\2 & 1 & 0 & 0 & 0 & 0 & 0 & 0 & 0 & 0\\\\6 & 1 & 1 & 0 & 0 & 0 & 0 & 0 & 0 & 0\\\\20 & 3 & 0 & 1 & 0 & 0 & 0 & 0 & 0 & 0\\\\70 & 10 & 1 & -1 & 1 & 0 & 0 & 0 & 0 & 0\\\\252 & 35 & 4 & 0 & -2 & 1 & 0 & 0 & 0 & 0\\\\924 & 126 & 15 & 1 & 0 & -3 & 1 & 0 & 0 & 0\\\\3432 & 462 & 56 & 5 & 0 & 1 & -4 & 1 & 0 & 0\\\\12870 & 1716 & 210 & 21 & 1 & 0 & 3 & -5 & 1 & 0\\\\48620 & 6435 & 792 & 84 & 6 & 0 & 0 & 6 & -6 & 1\\end{matrix}\\right]$$"
      ],
      "text/plain": [
       "⎡  1     0     0   0   0   0   0   0   0   0⎤\n",
       "⎢                                           ⎥\n",
       "⎢  2     1     0   0   0   0   0   0   0   0⎥\n",
       "⎢                                           ⎥\n",
       "⎢  6     1     1   0   0   0   0   0   0   0⎥\n",
       "⎢                                           ⎥\n",
       "⎢ 20     3     0   1   0   0   0   0   0   0⎥\n",
       "⎢                                           ⎥\n",
       "⎢ 70     10    1   -1  1   0   0   0   0   0⎥\n",
       "⎢                                           ⎥\n",
       "⎢ 252    35    4   0   -2  1   0   0   0   0⎥\n",
       "⎢                                           ⎥\n",
       "⎢ 924   126   15   1   0   -3  1   0   0   0⎥\n",
       "⎢                                           ⎥\n",
       "⎢3432   462   56   5   0   1   -4  1   0   0⎥\n",
       "⎢                                           ⎥\n",
       "⎢12870  1716  210  21  1   0   3   -5  1   0⎥\n",
       "⎢                                           ⎥\n",
       "⎣48620  6435  792  84  6   0   0   6   -6  1⎦"
      ]
     },
     "execution_count": 138,
     "metadata": {},
     "output_type": "execute_result"
    }
   ],
   "source": [
    "tabel=eye(10)\n",
    "for i in range(10):\n",
    "    col= Lambda([t],d(t)*(t*f(t))**i)\n",
    "    a=series(col(t), t, n=10)\n",
    "    for j in range(10):\n",
    "        tabel[j,i]=a.coeff(t, n=j)\n",
    "tabel"
   ]
  },
  {
   "cell_type": "markdown",
   "metadata": {},
   "source": [
    "Dalla tabella vediamo che i coefficenti centrali sono $1,1,1,\\cdots$ adesso quindi per dimostrare il teorema basterà dimostrare che la funzione generatrice dei coefficenti centrali corisponde a $\\mathcal{G}(1)=\\frac{1}{1-t}$\n",
    "\n",
    "Come abbimo fatto negli esempi precendeti ricaviamo $v(t)$ impostando l'equazione:\n",
    "$$vc(t)=t$$"
   ]
  },
  {
   "cell_type": "code",
   "execution_count": 157,
   "metadata": {},
   "outputs": [
    {
     "data": {
      "image/png": "[encoded data removed]",
      "text/latex": [
       "$$\\left( t \\mapsto t \\left(- t + 1\\right) \\right)$$"
      ],
      "text/plain": [
       "t ↦ t⋅(-t + 1)"
      ]
     },
     "execution_count": 157,
     "metadata": {},
     "output_type": "execute_result"
    }
   ],
   "source": [
    "vT=(1/f(v))*v\n",
    "eq=Eq(vT, t)\n",
    "sols = solve(eq, v)\n",
    "v2= Lambda([t],sols[0])\n",
    "v2"
   ]
  },
  {
   "cell_type": "markdown",
   "metadata": {},
   "source": [
    "quindi calcoliamo il rapporto, il rapporto della composizione delle funzioni e la derivata di $v(t)$"
   ]
  },
  {
   "cell_type": "code",
   "execution_count": 140,
   "metadata": {},
   "outputs": [
    {
     "data": {
      "image/png": "[encoded data removed]",
      "text/latex": [
       "$$\\frac{- \\sqrt{- 4 t + 1} + 1}{2 t \\sqrt{- 4 t + 1}}$$"
      ],
      "text/plain": [
       "    __________    \n",
       "- ╲╱ -4⋅t + 1  + 1\n",
       "──────────────────\n",
       "       __________ \n",
       " 2⋅t⋅╲╱ -4⋅t + 1  "
      ]
     },
     "execution_count": 140,
     "metadata": {},
     "output_type": "execute_result"
    }
   ],
   "source": [
    "d(t)/f(t)"
   ]
  },
  {
   "cell_type": "code",
   "execution_count": 141,
   "metadata": {},
   "outputs": [
    {
     "data": {
      "image/png": "[encoded data removed]",
      "text/latex": [
       "$$\\frac{\\sqrt{- 4 t \\left(- t + 1\\right) + 1} - 1}{2 t \\left(t - 1\\right) \\sqrt{- 4 t \\left(- t + 1\\right) + 1}}$$"
      ],
      "text/plain": [
       "      ___________________        \n",
       "    ╲╱ -4⋅t⋅(-t + 1) + 1  - 1    \n",
       "─────────────────────────────────\n",
       "              ___________________\n",
       "2⋅t⋅(t - 1)⋅╲╱ -4⋅t⋅(-t + 1) + 1 "
      ]
     },
     "execution_count": 141,
     "metadata": {},
     "output_type": "execute_result"
    }
   ],
   "source": [
    "rapp=simplify(d(v2(t))/f(v2(t)))\n",
    "rapp"
   ]
  },
  {
   "cell_type": "code",
   "execution_count": 142,
   "metadata": {},
   "outputs": [
    {
     "data": {
      "image/png": "[encoded data removed]",
      "text/latex": [
       "$$- 2 t + 1$$"
      ],
      "text/plain": [
       "-2⋅t + 1"
      ]
     },
     "execution_count": 142,
     "metadata": {},
     "output_type": "execute_result"
    }
   ],
   "source": [
    "der=diff(v2(t),t)\n",
    "der"
   ]
  },
  {
   "cell_type": "markdown",
   "metadata": {},
   "source": [
    "Adesso abbiamo tutto il necessario per calcolare la funzione generatrice definita dal teorema"
   ]
  },
  {
   "cell_type": "code",
   "execution_count": 143,
   "metadata": {},
   "outputs": [
    {
     "data": {
      "image/png": "[encoded data removed]",
      "text/latex": [
       "$$\\frac{\\left(- 2 t + 1\\right) \\left(\\sqrt{- 4 t \\left(- t + 1\\right) + 1} - 1\\right)}{2 t \\left(t - 1\\right) \\sqrt{- 4 t \\left(- t + 1\\right) + 1}}$$"
      ],
      "text/plain": [
       "           ⎛  ___________________    ⎞\n",
       "(-2⋅t + 1)⋅⎝╲╱ -4⋅t⋅(-t + 1) + 1  - 1⎠\n",
       "──────────────────────────────────────\n",
       "                ___________________   \n",
       "  2⋅t⋅(t - 1)⋅╲╱ -4⋅t⋅(-t + 1) + 1    "
      ]
     },
     "execution_count": 143,
     "metadata": {},
     "output_type": "execute_result"
    }
   ],
   "source": [
    "f_gen=Lambda([t],(rapp*der))\n",
    "f_gen(t)"
   ]
  },
  {
   "cell_type": "markdown",
   "metadata": {},
   "source": [
    "si vede bene che questa funzione corisponde a $\\mathcal{G}(1)$ ma per essere scrupolosi risolviamo l'equazione"
   ]
  },
  {
   "cell_type": "code",
   "execution_count": 146,
   "metadata": {},
   "outputs": [
    {
     "data": {
      "image/png": "[encoded data removed]",
      "text/latex": [
       "$$\\left [ \\right ]$$"
      ],
      "text/plain": [
       "[]"
      ]
     },
     "execution_count": 146,
     "metadata": {},
     "output_type": "execute_result"
    }
   ],
   "source": [
    "j= Lambda([t],1/(1-t))\n",
    "eq=Eq(f_gen(t), j(t))\n",
    "solve(eq,t)"
   ]
  },
  {
   "cell_type": "markdown",
   "metadata": {},
   "source": [
    "L'eqazione torna vuota, ovvero che le due espressioni sono uguali.\n",
    "\n",
    "Inoltre vediamo che la forma in serie di potenze corisponde a quanto detto sopra"
   ]
  },
  {
   "cell_type": "code",
   "execution_count": 147,
   "metadata": {},
   "outputs": [
    {
     "data": {
      "image/png": "[encoded data removed]",
      "text/latex": [
       "$$1 + t + t^{2} + t^{3} + \\mathcal{O}\\left(t^{4}\\right)$$"
      ],
      "text/plain": [
       "         2    3    ⎛ 4⎞\n",
       "1 + t + t  + t  + O⎝t ⎠"
      ]
     },
     "execution_count": 147,
     "metadata": {},
     "output_type": "execute_result"
    }
   ],
   "source": [
    "series(f_gen(t), t, n=4)"
   ]
  },
  {
   "cell_type": "code",
   "execution_count": 148,
   "metadata": {},
   "outputs": [
    {
     "data": {
      "image/png": "[encoded data removed]",
      "text/latex": [
       "$$\\frac{1}{2 t} \\left(- \\sqrt{- 4 t + 1} + 1\\right)$$"
      ],
      "text/plain": [
       "    __________    \n",
       "- ╲╱ -4⋅t + 1  + 1\n",
       "──────────────────\n",
       "       2⋅t        "
      ]
     },
     "execution_count": 148,
     "metadata": {},
     "output_type": "execute_result"
    }
   ],
   "source": [
    "f= Lambda([t], (1-sqrt(1-4*t))/(2*t))\n",
    "f(t)"
   ]
  },
  {
   "cell_type": "code",
   "execution_count": 109,
   "metadata": {},
   "outputs": [
    {
     "data": {
      "image/png": "[encoded data removed]",
      "text/latex": [
       "$$\\left[\\begin{matrix}1 & 0 & 0 & 0 & 0 & 0 & 0 & 0 & 0 & 0\\\\2 & 1 & 0 & 0 & 0 & 0 & 0 & 0 & 0 & 0\\\\6 & 3 & 1 & 0 & 0 & 0 & 0 & 0 & 0 & 0\\\\20 & 10 & 4 & 1 & 0 & 0 & 0 & 0 & 0 & 0\\\\70 & 35 & 15 & 5 & 1 & 0 & 0 & 0 & 0 & 0\\\\252 & 126 & 56 & 21 & 6 & 1 & 0 & 0 & 0 & 0\\\\924 & 462 & 210 & 84 & 28 & 7 & 1 & 0 & 0 & 0\\\\3432 & 1716 & 792 & 330 & 120 & 36 & 8 & 1 & 0 & 0\\\\12870 & 6435 & 3003 & 1287 & 495 & 165 & 45 & 9 & 1 & 0\\\\48620 & 24310 & 11440 & 5005 & 2002 & 715 & 220 & 55 & 10 & 1\\end{matrix}\\right]$$"
      ],
      "text/plain": [
       "⎡  1      0      0     0     0     0    0   0   0   0⎤\n",
       "⎢                                                    ⎥\n",
       "⎢  2      1      0     0     0     0    0   0   0   0⎥\n",
       "⎢                                                    ⎥\n",
       "⎢  6      3      1     0     0     0    0   0   0   0⎥\n",
       "⎢                                                    ⎥\n",
       "⎢ 20     10      4     1     0     0    0   0   0   0⎥\n",
       "⎢                                                    ⎥\n",
       "⎢ 70     35     15     5     1     0    0   0   0   0⎥\n",
       "⎢                                                    ⎥\n",
       "⎢ 252    126    56     21    6     1    0   0   0   0⎥\n",
       "⎢                                                    ⎥\n",
       "⎢ 924    462    210    84    28    7    1   0   0   0⎥\n",
       "⎢                                                    ⎥\n",
       "⎢3432   1716    792   330   120   36    8   1   0   0⎥\n",
       "⎢                                                    ⎥\n",
       "⎢12870  6435   3003   1287  495   165  45   9   1   0⎥\n",
       "⎢                                                    ⎥\n",
       "⎣48620  24310  11440  5005  2002  715  220  55  10  1⎦"
      ]
     },
     "execution_count": 109,
     "metadata": {},
     "output_type": "execute_result"
    }
   ],
   "source": [
    "tabel=eye(10)\n",
    "for i in range(10):\n",
    "    col= Lambda([t],d(t)*(t*f(t))**i)\n",
    "    a=series(col(t), t, n=10)\n",
    "    for j in range(10):\n",
    "        tabel[j,i]=a.coeff(t, n=j)\n",
    "tabel"
   ]
  },
  {
   "cell_type": "code",
   "execution_count": null,
   "metadata": {},
   "outputs": [],
   "source": []
  },
  {
   "cell_type": "code",
   "execution_count": 149,
   "metadata": {},
   "outputs": [
    {
     "data": {
      "image/png": "[encoded data removed]",
      "text/latex": [
       "$$t \\left(- \\frac{\\sqrt[3]{-1}}{2} + \\frac{\\left(-1\\right)^{\\frac{2}{3}}}{2}\\right) + t^{2} \\left(- \\frac{\\sqrt[3]{-1}}{2} + \\frac{\\left(-1\\right)^{\\frac{2}{3}}}{2}\\right) + t^{3} \\left(- \\frac{3 \\sqrt[3]{-1}}{2} + \\frac{3 \\left(-1\\right)^{\\frac{2}{3}}}{2}\\right) + \\sqrt{t} \\left(- \\frac{\\sqrt[6]{-1} \\sqrt{3}}{3} + \\frac{\\left(-1\\right)^{\\frac{5}{6}} \\sqrt{3}}{3}\\right) + t^{\\frac{3}{2}} \\left(- \\frac{\\left(-1\\right)^{\\frac{5}{6}} \\sqrt{3}}{8} + \\frac{\\sqrt[6]{-1} \\sqrt{3}}{8}\\right) + t^{\\frac{5}{2}} \\left(- \\frac{35 \\left(-1\\right)^{\\frac{5}{6}}}{128} \\sqrt{3} + \\frac{35 \\sqrt[6]{-1}}{128} \\sqrt{3}\\right) + t^{\\frac{7}{2}} \\left(- \\frac{797 \\left(-1\\right)^{\\frac{5}{6}}}{256} \\sqrt{3} + \\frac{1001 \\sqrt[6]{-1}}{1024} \\sqrt{3}\\right) + \\mathcal{O}\\left(t^{4}\\right)$$"
      ],
      "text/plain": [
       "  ⎛  3 ____       2/3⎞      ⎛  3 ____       2/3⎞      ⎛    3 ____         2/3⎞\n",
       "  ⎜  ╲╱ -1    (-1)   ⎟    2 ⎜  ╲╱ -1    (-1)   ⎟    3 ⎜  3⋅╲╱ -1    3⋅(-1)   ⎟\n",
       "t⋅⎜- ────── + ───────⎟ + t ⋅⎜- ────── + ───────⎟ + t ⋅⎜- ──────── + ─────────⎟\n",
       "  ⎝    2         2   ⎠      ⎝    2         2   ⎠      ⎝     2           2    ⎠\n",
       "\n",
       "      ⎛  6 ____          5/6   ⎞        ⎛      5/6      6 ____   ⎞        ⎛   \n",
       "      ⎜  ╲╱ -1 ⋅√3   (-1)   ⋅√3⎟    3/2 ⎜  (-1)   ⋅√3   ╲╱ -1 ⋅√3⎟    5/2 ⎜  3\n",
       " + √t⋅⎜- ───────── + ──────────⎟ + t   ⋅⎜- ────────── + ─────────⎟ + t   ⋅⎜- ─\n",
       "      ⎝      3           3     ⎠        ⎝      8            8    ⎠        ⎝   \n",
       "\n",
       "      5/6         6 ____   ⎞        ⎛          5/6           6 ____   ⎞       \n",
       "5⋅(-1)   ⋅√3   35⋅╲╱ -1 ⋅√3⎟    7/2 ⎜  797⋅(-1)   ⋅√3   1001⋅╲╱ -1 ⋅√3⎟    ⎛ 4\n",
       "──────────── + ────────────⎟ + t   ⋅⎜- ────────────── + ──────────────⎟ + O⎝t \n",
       "    128            128     ⎠        ⎝       256              1024     ⎠       \n",
       "\n",
       " \n",
       "⎞\n",
       "⎠\n",
       " "
      ]
     },
     "execution_count": 149,
     "metadata": {},
     "output_type": "execute_result"
    }
   ],
   "source": [
    "vT=(v/f(v))\n",
    "eq=Eq(vT, t)\n",
    "sols = solve(eq, v)\n",
    "v2= Lambda([t],sols[0])\n",
    "series(v2(t), t, n=4)"
   ]
  },
  {
   "cell_type": "code",
   "execution_count": 150,
   "metadata": {},
   "outputs": [
    {
     "data": {
      "image/png": "[encoded data removed]",
      "text/latex": [
       "$$\\frac{2 t}{\\sqrt{- 4 t + 1} \\left(- \\sqrt{- 4 t + 1} + 1\\right)}$$"
      ],
      "text/plain": [
       "               2⋅t               \n",
       "─────────────────────────────────\n",
       "  __________ ⎛    __________    ⎞\n",
       "╲╱ -4⋅t + 1 ⋅⎝- ╲╱ -4⋅t + 1  + 1⎠"
      ]
     },
     "execution_count": 150,
     "metadata": {},
     "output_type": "execute_result"
    }
   ],
   "source": [
    "d(t)/f(t)"
   ]
  },
  {
   "cell_type": "code",
   "execution_count": 151,
   "metadata": {},
   "outputs": [
    {
     "data": {
      "image/png": "[encoded data removed]",
      "text/latex": [
       "$$\\frac{2 \\sqrt[3]{6} t + \\left(18 t^{2} + 2 \\sqrt{3} \\sqrt{t^{3} \\left(27 t - 4\\right)}\\right)^{\\frac{2}{3}}}{4 \\sqrt[3]{6} t + 2 \\cdot 2^{\\frac{2}{3}} \\left(9 t^{2} + \\sqrt{3} \\sqrt{t^{3} \\left(27 t - 4\\right)}\\right)^{\\frac{2}{3}} - \\sqrt[3]{9 t^{2} + \\sqrt{3} \\sqrt{t^{3} \\left(27 t - 4\\right)}} \\sqrt{\\frac{12 \\sqrt[3]{2} t}{\\sqrt[3]{9 t^{2} + \\sqrt{3} \\sqrt{t^{3} \\left(27 t - 4\\right)}}} + 2 \\cdot 6^{\\frac{2}{3}} \\sqrt[3]{9 t^{2} + \\sqrt{3} \\sqrt{t^{3} \\left(27 t - 4\\right)}} + 3 \\sqrt[3]{3}} + 3^{\\frac{2}{3}} \\sqrt[3]{9 t^{2} + \\sqrt{3} \\sqrt{t^{3} \\left(27 t - 4\\right)}}}$$"
      ],
      "text/plain": [
       "                                                                              \n",
       "                                                                              \n",
       "                                                                              \n",
       "                                                                              \n",
       "──────────────────────────────────────────────────────────────────────────────\n",
       "                                                                              \n",
       "                                                 2/3       ___________________\n",
       "                   ⎛             _______________⎞         ╱              _____\n",
       "  3 ___        2/3 ⎜   2        ╱  3            ⎟      3 ╱     2        ╱  3  \n",
       "4⋅╲╱ 6 ⋅t + 2⋅2   ⋅⎝9⋅t  + √3⋅╲╱  t ⋅(27⋅t - 4) ⎠    - ╲╱   9⋅t  + √3⋅╲╱  t ⋅(\n",
       "                                                                              \n",
       "                                                                              \n",
       "                                                                              \n",
       "                                                                              \n",
       "\n",
       "                                                           2/3                \n",
       "                          ⎛                _______________⎞                   \n",
       "                3 ___     ⎜    2          ╱  3            ⎟                   \n",
       "              2⋅╲╱ 6 ⋅t + ⎝18⋅t  + 2⋅√3⋅╲╱  t ⋅(27⋅t - 4) ⎠                   \n",
       "──────────────────────────────────────────────────────────────────────────────\n",
       "                     _________________________________________________________\n",
       "___________         ╱                                                 ________\n",
       "__________         ╱                 3 ___                           ╱        \n",
       "                  ╱               12⋅╲╱ 2 ⋅t                  2/3 3 ╱     2   \n",
       "27⋅t - 4)  ⋅     ╱    ────────────────────────────────── + 2⋅6   ⋅╲╱   9⋅t  + \n",
       "                ╱         ______________________________                      \n",
       "               ╱         ╱              _______________                       \n",
       "              ╱       3 ╱     2        ╱  3                                   \n",
       "            ╲╱        ╲╱   9⋅t  + √3⋅╲╱  t ⋅(27⋅t - 4)                        \n",
       "\n",
       "                                                                           \n",
       "                                                                           \n",
       "                                                                           \n",
       "                                                                           \n",
       "───────────────────────────────────────────────────────────────────────────\n",
       "_________________________________                                          \n",
       "______________________                       ______________________________\n",
       "      _______________                       ╱              _______________ \n",
       "     ╱  3                  3 ___     2/3 3 ╱     2        ╱  3             \n",
       "√3⋅╲╱  t ⋅(27⋅t - 4)   + 3⋅╲╱ 3   + 3   ⋅╲╱   9⋅t  + √3⋅╲╱  t ⋅(27⋅t - 4)  \n",
       "                                                                           \n",
       "                                                                           \n",
       "                                                                           \n",
       "                                                                           "
      ]
     },
     "execution_count": 151,
     "metadata": {},
     "output_type": "execute_result"
    }
   ],
   "source": [
    "rapp=simplify(d(v2(t))/f(v2(t)))\n",
    "rapp"
   ]
  },
  {
   "cell_type": "code",
   "execution_count": 152,
   "metadata": {},
   "outputs": [
    {
     "data": {
      "image/png": "[encoded data removed]",
      "text/latex": [
       "$$- \\frac{t \\left(- 9 t - \\frac{1458 t^{3} - 162 t^{2}}{6 \\sqrt{729 t^{4} - 108 t^{3}}}\\right)}{\\left(\\frac{27 t^{2}}{2} + \\frac{1}{2} \\sqrt{729 t^{4} - 108 t^{3}}\\right)^{\\frac{4}{3}}} - \\frac{9 t + \\frac{1458 t^{3} - 162 t^{2}}{6 \\sqrt{729 t^{4} - 108 t^{3}}}}{3 \\left(\\frac{27 t^{2}}{2} + \\frac{1}{2} \\sqrt{729 t^{4} - 108 t^{3}}\\right)^{\\frac{2}{3}}} - \\frac{1}{\\sqrt[3]{\\frac{27 t^{2}}{2} + \\frac{1}{2} \\sqrt{729 t^{4} - 108 t^{3}}}}$$"
      ],
      "text/plain": [
       "    ⎛                3        2   ⎞                      3        2           \n",
       "    ⎜          1458⋅t  - 162⋅t    ⎟                1458⋅t  - 162⋅t            \n",
       "  t⋅⎜-9⋅t - ──────────────────────⎟       9⋅t + ──────────────────────        \n",
       "    ⎜            _________________⎟                  _________________        \n",
       "    ⎜           ╱      4        3 ⎟                 ╱      4        3         \n",
       "    ⎝       6⋅╲╱  729⋅t  - 108⋅t  ⎠             6⋅╲╱  729⋅t  - 108⋅t          \n",
       "- ───────────────────────────────── - ─────────────────────────────────── - ──\n",
       "                                4/3                                   2/3     \n",
       "  ⎛           _________________⎞        ⎛           _________________⎞        \n",
       "  ⎜    2     ╱      4        3 ⎟        ⎜    2     ╱      4        3 ⎟        \n",
       "  ⎜27⋅t    ╲╱  729⋅t  - 108⋅t  ⎟        ⎜27⋅t    ╲╱  729⋅t  - 108⋅t  ⎟        \n",
       "  ⎜───── + ────────────────────⎟      3⋅⎜───── + ────────────────────⎟      3 \n",
       "  ⎝  2              2          ⎠        ⎝  2              2          ⎠      ╲╱\n",
       "\n",
       "                                  \n",
       "                                  \n",
       "                                  \n",
       "                                  \n",
       "                                  \n",
       "               1                  \n",
       "──────────────────────────────────\n",
       "    ______________________________\n",
       "   ╱            _________________ \n",
       "  ╱      2     ╱      4        3  \n",
       " ╱   27⋅t    ╲╱  729⋅t  - 108⋅t   \n",
       "╱    ───── + ──────────────────── \n",
       "       2              2           "
      ]
     },
     "execution_count": 152,
     "metadata": {},
     "output_type": "execute_result"
    }
   ],
   "source": [
    "der=diff(v2(t),t)\n",
    "der"
   ]
  },
  {
   "cell_type": "code",
   "execution_count": 153,
   "metadata": {},
   "outputs": [
    {
     "data": {
      "image/png": "[encoded data removed]",
      "text/latex": [
       "$$\\frac{\\left(2 \\sqrt[3]{6} t + \\left(18 t^{2} + 2 \\sqrt{3} \\sqrt{t^{3} \\left(27 t - 4\\right)}\\right)^{\\frac{2}{3}}\\right) \\left(- \\frac{t \\left(- 9 t - \\frac{1458 t^{3} - 162 t^{2}}{6 \\sqrt{729 t^{4} - 108 t^{3}}}\\right)}{\\left(\\frac{27 t^{2}}{2} + \\frac{1}{2} \\sqrt{729 t^{4} - 108 t^{3}}\\right)^{\\frac{4}{3}}} - \\frac{9 t + \\frac{1458 t^{3} - 162 t^{2}}{6 \\sqrt{729 t^{4} - 108 t^{3}}}}{3 \\left(\\frac{27 t^{2}}{2} + \\frac{1}{2} \\sqrt{729 t^{4} - 108 t^{3}}\\right)^{\\frac{2}{3}}} - \\frac{1}{\\sqrt[3]{\\frac{27 t^{2}}{2} + \\frac{1}{2} \\sqrt{729 t^{4} - 108 t^{3}}}}\\right)}{4 \\sqrt[3]{6} t + 2 \\cdot 2^{\\frac{2}{3}} \\left(9 t^{2} + \\sqrt{3} \\sqrt{t^{3} \\left(27 t - 4\\right)}\\right)^{\\frac{2}{3}} - \\sqrt[3]{9 t^{2} + \\sqrt{3} \\sqrt{t^{3} \\left(27 t - 4\\right)}} \\sqrt{\\frac{12 \\sqrt[3]{2} t}{\\sqrt[3]{9 t^{2} + \\sqrt{3} \\sqrt{t^{3} \\left(27 t - 4\\right)}}} + 2 \\cdot 6^{\\frac{2}{3}} \\sqrt[3]{9 t^{2} + \\sqrt{3} \\sqrt{t^{3} \\left(27 t - 4\\right)}} + 3 \\sqrt[3]{3}} + 3^{\\frac{2}{3}} \\sqrt[3]{9 t^{2} + \\sqrt{3} \\sqrt{t^{3} \\left(27 t - 4\\right)}}}$$"
      ],
      "text/plain": [
       "                                                                              \n",
       "                                                                              \n",
       "                                                                              \n",
       "                                 ⎛                                            \n",
       "                                 ⎜            ⎛                _______________\n",
       "                                 ⎜  3 ___     ⎜    2          ╱  3            \n",
       "                                 ⎝2⋅╲╱ 6 ⋅t + ⎝18⋅t  + 2⋅√3⋅╲╱  t ⋅(27⋅t - 4) \n",
       "                                                                              \n",
       "                                                                              \n",
       "                                                                              \n",
       "                                                                              \n",
       "                                                                              \n",
       "                                                                              \n",
       "──────────────────────────────────────────────────────────────────────────────\n",
       "                                                                              \n",
       "                                                 2/3       ___________________\n",
       "                   ⎛             _______________⎞         ╱              _____\n",
       "  3 ___        2/3 ⎜   2        ╱  3            ⎟      3 ╱     2        ╱  3  \n",
       "4⋅╲╱ 6 ⋅t + 2⋅2   ⋅⎝9⋅t  + √3⋅╲╱  t ⋅(27⋅t - 4) ⎠    - ╲╱   9⋅t  + √3⋅╲╱  t ⋅(\n",
       "                                                                              \n",
       "                                                                              \n",
       "                                                                              \n",
       "                                                                              \n",
       "\n",
       "      ⎛    ⎛                3        2   ⎞                      3        2    \n",
       "      ⎜    ⎜          1458⋅t  - 162⋅t    ⎟                1458⋅t  - 162⋅t     \n",
       "      ⎜  t⋅⎜-9⋅t - ──────────────────────⎟       9⋅t + ────────────────────── \n",
       " 2/3⎞ ⎜    ⎜            _________________⎟                  _________________ \n",
       "⎞   ⎟ ⎜    ⎜           ╱      4        3 ⎟                 ╱      4        3  \n",
       "⎟   ⎟ ⎜    ⎝       6⋅╲╱  729⋅t  - 108⋅t  ⎠             6⋅╲╱  729⋅t  - 108⋅t   \n",
       "⎠   ⎠⋅⎜- ───────────────────────────────── - ─────────────────────────────────\n",
       "      ⎜                                4/3                                   2\n",
       "      ⎜  ⎛           _________________⎞        ⎛           _________________⎞ \n",
       "      ⎜  ⎜    2     ╱      4        3 ⎟        ⎜    2     ╱      4        3 ⎟ \n",
       "      ⎜  ⎜27⋅t    ╲╱  729⋅t  - 108⋅t  ⎟        ⎜27⋅t    ╲╱  729⋅t  - 108⋅t  ⎟ \n",
       "      ⎜  ⎜───── + ────────────────────⎟      3⋅⎜───── + ────────────────────⎟ \n",
       "      ⎝  ⎝  2              2          ⎠        ⎝  2              2          ⎠ \n",
       "──────────────────────────────────────────────────────────────────────────────\n",
       "                     _________________________________________________________\n",
       "___________         ╱                                                 ________\n",
       "__________         ╱                 3 ___                           ╱        \n",
       "                  ╱               12⋅╲╱ 2 ⋅t                  2/3 3 ╱     2   \n",
       "27⋅t - 4)  ⋅     ╱    ────────────────────────────────── + 2⋅6   ⋅╲╱   9⋅t  + \n",
       "                ╱         ______________________________                      \n",
       "               ╱         ╱              _______________                       \n",
       "              ╱       3 ╱     2        ╱  3                                   \n",
       "            ╲╱        ╲╱   9⋅t  + √3⋅╲╱  t ⋅(27⋅t - 4)                        \n",
       "\n",
       "                                         ⎞                                 \n",
       "                                         ⎟                                 \n",
       "                                         ⎟                                 \n",
       "                                         ⎟                                 \n",
       "                                         ⎟                                 \n",
       "                      1                  ⎟                                 \n",
       "── - ────────────────────────────────────⎟                                 \n",
       "/3         ______________________________⎟                                 \n",
       "          ╱            _________________ ⎟                                 \n",
       "         ╱      2     ╱      4        3  ⎟                                 \n",
       "        ╱   27⋅t    ╲╱  729⋅t  - 108⋅t   ⎟                                 \n",
       "     3 ╱    ───── + ──────────────────── ⎟                                 \n",
       "     ╲╱       2              2           ⎠                                 \n",
       "───────────────────────────────────────────────────────────────────────────\n",
       "_________________________________                                          \n",
       "______________________                       ______________________________\n",
       "      _______________                       ╱              _______________ \n",
       "     ╱  3                  3 ___     2/3 3 ╱     2        ╱  3             \n",
       "√3⋅╲╱  t ⋅(27⋅t - 4)   + 3⋅╲╱ 3   + 3   ⋅╲╱   9⋅t  + √3⋅╲╱  t ⋅(27⋅t - 4)  \n",
       "                                                                           \n",
       "                                                                           \n",
       "                                                                           \n",
       "                                                                           "
      ]
     },
     "execution_count": 153,
     "metadata": {},
     "output_type": "execute_result"
    }
   ],
   "source": [
    "f_gen=Lambda([t],(rapp*der))\n",
    "f_gen(t)"
   ]
  },
  {
   "cell_type": "code",
   "execution_count": null,
   "metadata": {},
   "outputs": [],
   "source": []
  }
 ],
 "metadata": {
  "kernelspec": {
   "display_name": "Python 3",
   "language": "python",
   "name": "python3"
  },
  "language_info": {
   "codemirror_mode": {
    "name": "ipython",
    "version": 3
   },
   "file_extension": ".py",
   "mimetype": "text/x-python",
   "name": "python",
   "nbconvert_exporter": "python",
   "pygments_lexer": "ipython3",
   "version": "3.7.2"
  }
 },
 "nbformat": 4,
 "nbformat_minor": 2
}
